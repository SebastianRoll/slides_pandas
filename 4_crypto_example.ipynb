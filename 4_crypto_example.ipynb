{
 "cells": [
  {
   "cell_type": "markdown",
   "metadata": {
    "slideshow": {
     "slide_type": "slide"
    }
   },
   "source": [
    "![crypto](images/shutterstock_712597270-2.jpg)"
   ]
  },
  {
   "cell_type": "code",
   "execution_count": 28,
   "metadata": {
    "slideshow": {
     "slide_type": "subslide"
    }
   },
   "outputs": [],
   "source": [
    "import pandas as pd\n",
    "import requests\n",
    "import json\n",
    "import matplotlib\n",
    "%matplotlib inline\n",
    "matplotlib.rcParams['figure.figsize'] = (12,7)\n",
    "matplotlib.rcParams['font.size'] = 22"
   ]
  },
  {
   "cell_type": "code",
   "execution_count": 60,
   "metadata": {
    "slideshow": {
     "slide_type": "skip"
    }
   },
   "outputs": [
    {
     "name": "stdout",
     "output_type": "stream",
     "text": [
      "env: COINMARKETCAP_APIKEY=2bf10198-ed15-4d50-9ca8-715372b4a28d\n"
     ]
    }
   ],
   "source": [
    "%set_env COINMARKETCAP_APIKEY=2bf10198-ed15-4d50-9ca8-715372b4a28d"
   ]
  },
  {
   "cell_type": "code",
   "execution_count": 16,
   "metadata": {
    "slideshow": {
     "slide_type": "subslide"
    }
   },
   "outputs": [
    {
     "name": "stderr",
     "output_type": "stream",
     "text": [
      "UsageError: Environment does not have key: COINMARKETCAP_APIKEY\n"
     ]
    }
   ],
   "source": [
    "from requests import Request, Session\n",
    "from requests.exceptions import ConnectionError, Timeout, TooManyRedirects\n",
    "\n",
    "api_key = %env COINMARKETCAP_APIKEY\n",
    "\n",
    "url = 'https://pro-api.coinmarketcap.com/v1/cryptocurrency/listings/latest'\n",
    "parameters = {\n",
    "  'start':'1',\n",
    "  'limit':'5000',\n",
    "  'convert':'USD'\n",
    "}\n",
    "headers = {\n",
    "  'Accepts': 'application/json',\n",
    "  'X-CMC_PRO_API_KEY': api_key,\n",
    "}\n",
    "session = Session()\n",
    "session.headers.update(headers)\n",
    "\n",
    "try:\n",
    "  response = session.get(url, params=parameters)  \n",
    "except (ConnectionError, Timeout, TooManyRedirects) as e:\n",
    "  print(e)"
   ]
  },
  {
   "cell_type": "code",
   "execution_count": 3,
   "metadata": {
    "slideshow": {
     "slide_type": "skip"
    }
   },
   "outputs": [
    {
     "ename": "NameError",
     "evalue": "name 'response' is not defined",
     "output_type": "error",
     "traceback": [
      "\u001b[0;31m---------------------------------------------------------------------------\u001b[0m",
      "\u001b[0;31mNameError\u001b[0m                                 Traceback (most recent call last)",
      "\u001b[0;32m/tmp/ipykernel_3176816/2347416250.py\u001b[0m in \u001b[0;36m<module>\u001b[0;34m\u001b[0m\n\u001b[1;32m      1\u001b[0m \u001b[0;32mimport\u001b[0m \u001b[0mjson\u001b[0m\u001b[0;34m\u001b[0m\u001b[0;34m\u001b[0m\u001b[0m\n\u001b[0;32m----> 2\u001b[0;31m \u001b[0mres\u001b[0m \u001b[0;34m=\u001b[0m \u001b[0mjson\u001b[0m\u001b[0;34m.\u001b[0m\u001b[0mloads\u001b[0m\u001b[0;34m(\u001b[0m\u001b[0mresponse\u001b[0m\u001b[0;34m.\u001b[0m\u001b[0mtext\u001b[0m\u001b[0;34m)\u001b[0m\u001b[0;34m\u001b[0m\u001b[0;34m\u001b[0m\u001b[0m\n\u001b[0m",
      "\u001b[0;31mNameError\u001b[0m: name 'response' is not defined"
     ]
    }
   ],
   "source": [
    "import json\n",
    "res = json.loads(response.text)"
   ]
  },
  {
   "cell_type": "code",
   "execution_count": 6,
   "metadata": {
    "slideshow": {
     "slide_type": "skip"
    }
   },
   "outputs": [],
   "source": [
    "#with open(\"coinmarketcap.json\", \"w\") as f:\n",
    "#    json.dump(response.text, f)\n",
    "#with open(\"coinmarketcap.json\", \"r\") as f:\n",
    "#    res = json.load(f)\n",
    "\n",
    "#with open(\"coinmarketcap_data.json\", \"w\") as f:\n",
    "#    json.dump(res[\"data\"], f)"
   ]
  },
  {
   "cell_type": "code",
   "execution_count": 19,
   "metadata": {
    "slideshow": {
     "slide_type": "subslide"
    }
   },
   "outputs": [],
   "source": [
    "with open(\"coinmarketcap_data.json\", \"r\") as f:\n",
    "    data = json.load(f)"
   ]
  },
  {
   "cell_type": "markdown",
   "metadata": {
    "slideshow": {
     "slide_type": "fragment"
    }
   },
   "source": [
    "Why not `pd.read_json(\"coinmarketcap_data.json\")`?"
   ]
  },
  {
   "cell_type": "code",
   "execution_count": 22,
   "metadata": {
    "slideshow": {
     "slide_type": "subslide"
    }
   },
   "outputs": [
    {
     "data": {
      "text/html": [
       "<div>\n",
       "<style scoped>\n",
       "    .dataframe tbody tr th:only-of-type {\n",
       "        vertical-align: middle;\n",
       "    }\n",
       "\n",
       "    .dataframe tbody tr th {\n",
       "        vertical-align: top;\n",
       "    }\n",
       "\n",
       "    .dataframe thead th {\n",
       "        text-align: right;\n",
       "    }\n",
       "</style>\n",
       "<table border=\"1\" class=\"dataframe\">\n",
       "  <thead>\n",
       "    <tr style=\"text-align: right;\">\n",
       "      <th></th>\n",
       "      <th>id</th>\n",
       "      <th>name</th>\n",
       "      <th>symbol</th>\n",
       "      <th>slug</th>\n",
       "      <th>num_market_pairs</th>\n",
       "      <th>date_added</th>\n",
       "      <th>tags</th>\n",
       "      <th>max_supply</th>\n",
       "      <th>circulating_supply</th>\n",
       "      <th>total_supply</th>\n",
       "      <th>...</th>\n",
       "      <th>quote.USD.percent_change_90d</th>\n",
       "      <th>quote.USD.market_cap</th>\n",
       "      <th>quote.USD.market_cap_dominance</th>\n",
       "      <th>quote.USD.fully_diluted_market_cap</th>\n",
       "      <th>quote.USD.last_updated</th>\n",
       "      <th>platform.id</th>\n",
       "      <th>platform.name</th>\n",
       "      <th>platform.symbol</th>\n",
       "      <th>platform.slug</th>\n",
       "      <th>platform.token_address</th>\n",
       "    </tr>\n",
       "  </thead>\n",
       "  <tbody>\n",
       "    <tr>\n",
       "      <th>0</th>\n",
       "      <td>1</td>\n",
       "      <td>Bitcoin</td>\n",
       "      <td>BTC</td>\n",
       "      <td>bitcoin</td>\n",
       "      <td>8486</td>\n",
       "      <td>2013-04-28T00:00:00.000Z</td>\n",
       "      <td>[mineable, pow, sha-256, store-of-value, state...</td>\n",
       "      <td>2.100000e+07</td>\n",
       "      <td>1.885411e+07</td>\n",
       "      <td>1.885411e+07</td>\n",
       "      <td>...</td>\n",
       "      <td>66.976001</td>\n",
       "      <td>1.189517e+12</td>\n",
       "      <td>45.3735</td>\n",
       "      <td>1.324903e+12</td>\n",
       "      <td>2021-10-25T17:54:02.000Z</td>\n",
       "      <td>NaN</td>\n",
       "      <td>NaN</td>\n",
       "      <td>NaN</td>\n",
       "      <td>NaN</td>\n",
       "      <td>NaN</td>\n",
       "    </tr>\n",
       "    <tr>\n",
       "      <th>1</th>\n",
       "      <td>1027</td>\n",
       "      <td>Ethereum</td>\n",
       "      <td>ETH</td>\n",
       "      <td>ethereum</td>\n",
       "      <td>4650</td>\n",
       "      <td>2015-08-07T00:00:00.000Z</td>\n",
       "      <td>[mineable, pow, smart-contracts, ethereum, bin...</td>\n",
       "      <td>NaN</td>\n",
       "      <td>1.180728e+08</td>\n",
       "      <td>1.180728e+08</td>\n",
       "      <td>...</td>\n",
       "      <td>87.784077</td>\n",
       "      <td>4.945416e+11</td>\n",
       "      <td>18.8640</td>\n",
       "      <td>4.945416e+11</td>\n",
       "      <td>2021-10-25T17:54:02.000Z</td>\n",
       "      <td>NaN</td>\n",
       "      <td>NaN</td>\n",
       "      <td>NaN</td>\n",
       "      <td>NaN</td>\n",
       "      <td>NaN</td>\n",
       "    </tr>\n",
       "    <tr>\n",
       "      <th>2</th>\n",
       "      <td>1839</td>\n",
       "      <td>Binance Coin</td>\n",
       "      <td>BNB</td>\n",
       "      <td>binance-coin</td>\n",
       "      <td>541</td>\n",
       "      <td>2017-07-25T00:00:00.000Z</td>\n",
       "      <td>[marketplace, centralized-exchange, payments, ...</td>\n",
       "      <td>1.668011e+08</td>\n",
       "      <td>1.668011e+08</td>\n",
       "      <td>1.668011e+08</td>\n",
       "      <td>...</td>\n",
       "      <td>58.512319</td>\n",
       "      <td>8.091437e+10</td>\n",
       "      <td>3.0864</td>\n",
       "      <td>8.091437e+10</td>\n",
       "      <td>2021-10-25T17:53:08.000Z</td>\n",
       "      <td>NaN</td>\n",
       "      <td>NaN</td>\n",
       "      <td>NaN</td>\n",
       "      <td>NaN</td>\n",
       "      <td>NaN</td>\n",
       "    </tr>\n",
       "    <tr>\n",
       "      <th>3</th>\n",
       "      <td>2010</td>\n",
       "      <td>Cardano</td>\n",
       "      <td>ADA</td>\n",
       "      <td>cardano</td>\n",
       "      <td>307</td>\n",
       "      <td>2017-10-01T00:00:00.000Z</td>\n",
       "      <td>[mineable, dpos, pos, platform, research, smar...</td>\n",
       "      <td>4.500000e+10</td>\n",
       "      <td>3.292478e+10</td>\n",
       "      <td>3.331598e+10</td>\n",
       "      <td>...</td>\n",
       "      <td>73.595967</td>\n",
       "      <td>7.129524e+10</td>\n",
       "      <td>2.7266</td>\n",
       "      <td>9.744290e+10</td>\n",
       "      <td>2021-10-25T17:53:10.000Z</td>\n",
       "      <td>NaN</td>\n",
       "      <td>NaN</td>\n",
       "      <td>NaN</td>\n",
       "      <td>NaN</td>\n",
       "      <td>NaN</td>\n",
       "    </tr>\n",
       "    <tr>\n",
       "      <th>4</th>\n",
       "      <td>825</td>\n",
       "      <td>Tether</td>\n",
       "      <td>USDT</td>\n",
       "      <td>tether</td>\n",
       "      <td>18707</td>\n",
       "      <td>2015-02-25T00:00:00.000Z</td>\n",
       "      <td>[payments, stablecoin, stablecoin-asset-backed...</td>\n",
       "      <td>NaN</td>\n",
       "      <td>6.957411e+10</td>\n",
       "      <td>7.135785e+10</td>\n",
       "      <td>...</td>\n",
       "      <td>-0.019686</td>\n",
       "      <td>6.959987e+10</td>\n",
       "      <td>2.6618</td>\n",
       "      <td>7.138426e+10</td>\n",
       "      <td>2021-10-25T17:53:08.000Z</td>\n",
       "      <td>1027.0</td>\n",
       "      <td>Ethereum</td>\n",
       "      <td>ETH</td>\n",
       "      <td>ethereum</td>\n",
       "      <td>0xdac17f958d2ee523a2206206994597c13d831ec7</td>\n",
       "    </tr>\n",
       "  </tbody>\n",
       "</table>\n",
       "<p>5 rows × 31 columns</p>\n",
       "</div>"
      ],
      "text/plain": [
       "     id          name symbol          slug  num_market_pairs  \\\n",
       "0     1       Bitcoin    BTC       bitcoin              8486   \n",
       "1  1027      Ethereum    ETH      ethereum              4650   \n",
       "2  1839  Binance Coin    BNB  binance-coin               541   \n",
       "3  2010       Cardano    ADA       cardano               307   \n",
       "4   825        Tether   USDT        tether             18707   \n",
       "\n",
       "                 date_added  \\\n",
       "0  2013-04-28T00:00:00.000Z   \n",
       "1  2015-08-07T00:00:00.000Z   \n",
       "2  2017-07-25T00:00:00.000Z   \n",
       "3  2017-10-01T00:00:00.000Z   \n",
       "4  2015-02-25T00:00:00.000Z   \n",
       "\n",
       "                                                tags    max_supply  \\\n",
       "0  [mineable, pow, sha-256, store-of-value, state...  2.100000e+07   \n",
       "1  [mineable, pow, smart-contracts, ethereum, bin...           NaN   \n",
       "2  [marketplace, centralized-exchange, payments, ...  1.668011e+08   \n",
       "3  [mineable, dpos, pos, platform, research, smar...  4.500000e+10   \n",
       "4  [payments, stablecoin, stablecoin-asset-backed...           NaN   \n",
       "\n",
       "   circulating_supply  total_supply  ...  quote.USD.percent_change_90d  \\\n",
       "0        1.885411e+07  1.885411e+07  ...                     66.976001   \n",
       "1        1.180728e+08  1.180728e+08  ...                     87.784077   \n",
       "2        1.668011e+08  1.668011e+08  ...                     58.512319   \n",
       "3        3.292478e+10  3.331598e+10  ...                     73.595967   \n",
       "4        6.957411e+10  7.135785e+10  ...                     -0.019686   \n",
       "\n",
       "   quote.USD.market_cap quote.USD.market_cap_dominance  \\\n",
       "0          1.189517e+12                        45.3735   \n",
       "1          4.945416e+11                        18.8640   \n",
       "2          8.091437e+10                         3.0864   \n",
       "3          7.129524e+10                         2.7266   \n",
       "4          6.959987e+10                         2.6618   \n",
       "\n",
       "   quote.USD.fully_diluted_market_cap    quote.USD.last_updated  platform.id  \\\n",
       "0                        1.324903e+12  2021-10-25T17:54:02.000Z          NaN   \n",
       "1                        4.945416e+11  2021-10-25T17:54:02.000Z          NaN   \n",
       "2                        8.091437e+10  2021-10-25T17:53:08.000Z          NaN   \n",
       "3                        9.744290e+10  2021-10-25T17:53:10.000Z          NaN   \n",
       "4                        7.138426e+10  2021-10-25T17:53:08.000Z       1027.0   \n",
       "\n",
       "   platform.name  platform.symbol  platform.slug  \\\n",
       "0            NaN              NaN            NaN   \n",
       "1            NaN              NaN            NaN   \n",
       "2            NaN              NaN            NaN   \n",
       "3            NaN              NaN            NaN   \n",
       "4       Ethereum              ETH       ethereum   \n",
       "\n",
       "                       platform.token_address  \n",
       "0                                         NaN  \n",
       "1                                         NaN  \n",
       "2                                         NaN  \n",
       "3                                         NaN  \n",
       "4  0xdac17f958d2ee523a2206206994597c13d831ec7  \n",
       "\n",
       "[5 rows x 31 columns]"
      ]
     },
     "execution_count": 22,
     "metadata": {},
     "output_type": "execute_result"
    }
   ],
   "source": [
    "normalized = pd.json_normalize(data)\n",
    "df = pd.DataFrame.from_dict(normalized)\n",
    "\n",
    "df.head()"
   ]
  },
  {
   "cell_type": "code",
   "execution_count": 23,
   "metadata": {
    "slideshow": {
     "slide_type": "subslide"
    }
   },
   "outputs": [
    {
     "data": {
      "text/html": [
       "<div>\n",
       "<style scoped>\n",
       "    .dataframe tbody tr th:only-of-type {\n",
       "        vertical-align: middle;\n",
       "    }\n",
       "\n",
       "    .dataframe tbody tr th {\n",
       "        vertical-align: top;\n",
       "    }\n",
       "\n",
       "    .dataframe thead th {\n",
       "        text-align: right;\n",
       "    }\n",
       "</style>\n",
       "<table border=\"1\" class=\"dataframe\">\n",
       "  <thead>\n",
       "    <tr style=\"text-align: right;\">\n",
       "      <th></th>\n",
       "      <th>id</th>\n",
       "      <th>name</th>\n",
       "      <th>symbol</th>\n",
       "      <th>slug</th>\n",
       "      <th>num_market_pairs</th>\n",
       "      <th>date_added</th>\n",
       "      <th>tags</th>\n",
       "      <th>max_supply</th>\n",
       "      <th>circulating_supply</th>\n",
       "      <th>total_supply</th>\n",
       "      <th>...</th>\n",
       "      <th>quote.USD.percent_change_90d</th>\n",
       "      <th>quote.USD.market_cap</th>\n",
       "      <th>quote.USD.market_cap_dominance</th>\n",
       "      <th>quote.USD.fully_diluted_market_cap</th>\n",
       "      <th>quote.USD.last_updated</th>\n",
       "      <th>platform.id</th>\n",
       "      <th>platform.name</th>\n",
       "      <th>platform.symbol</th>\n",
       "      <th>platform.slug</th>\n",
       "      <th>platform.token_address</th>\n",
       "    </tr>\n",
       "  </thead>\n",
       "  <tbody>\n",
       "    <tr>\n",
       "      <th>47</th>\n",
       "      <td>1720</td>\n",
       "      <td>IOTA</td>\n",
       "      <td>MIOTA</td>\n",
       "      <td>iota</td>\n",
       "      <td>61</td>\n",
       "      <td>2017-06-13T00:00:00.000Z</td>\n",
       "      <td>[dag, medium-of-exchange, iot, sharing-economy...</td>\n",
       "      <td>2.779530e+09</td>\n",
       "      <td>2.779530e+09</td>\n",
       "      <td>2.779530e+09</td>\n",
       "      <td>...</td>\n",
       "      <td>58.143096</td>\n",
       "      <td>3.723347e+09</td>\n",
       "      <td>0.142</td>\n",
       "      <td>3.723347e+09</td>\n",
       "      <td>2021-10-25T17:54:07.000Z</td>\n",
       "      <td>NaN</td>\n",
       "      <td>NaN</td>\n",
       "      <td>NaN</td>\n",
       "      <td>NaN</td>\n",
       "      <td>NaN</td>\n",
       "    </tr>\n",
       "  </tbody>\n",
       "</table>\n",
       "<p>1 rows × 31 columns</p>\n",
       "</div>"
      ],
      "text/plain": [
       "      id  name symbol  slug  num_market_pairs                date_added  \\\n",
       "47  1720  IOTA  MIOTA  iota                61  2017-06-13T00:00:00.000Z   \n",
       "\n",
       "                                                 tags    max_supply  \\\n",
       "47  [dag, medium-of-exchange, iot, sharing-economy...  2.779530e+09   \n",
       "\n",
       "    circulating_supply  total_supply  ...  quote.USD.percent_change_90d  \\\n",
       "47        2.779530e+09  2.779530e+09  ...                     58.143096   \n",
       "\n",
       "    quote.USD.market_cap quote.USD.market_cap_dominance  \\\n",
       "47          3.723347e+09                          0.142   \n",
       "\n",
       "    quote.USD.fully_diluted_market_cap    quote.USD.last_updated  platform.id  \\\n",
       "47                        3.723347e+09  2021-10-25T17:54:07.000Z          NaN   \n",
       "\n",
       "    platform.name  platform.symbol  platform.slug  platform.token_address  \n",
       "47            NaN              NaN            NaN                     NaN  \n",
       "\n",
       "[1 rows x 31 columns]"
      ]
     },
     "execution_count": 23,
     "metadata": {},
     "output_type": "execute_result"
    }
   ],
   "source": [
    "df[df['symbol']==\"MIOTA\"]"
   ]
  },
  {
   "cell_type": "markdown",
   "metadata": {
    "slideshow": {
     "slide_type": "subslide"
    }
   },
   "source": [
    "### Top ten ranked cryptos"
   ]
  },
  {
   "cell_type": "code",
   "execution_count": 26,
   "metadata": {
    "slideshow": {
     "slide_type": "-"
    }
   },
   "outputs": [
    {
     "data": {
      "text/html": [
       "<div>\n",
       "<style scoped>\n",
       "    .dataframe tbody tr th:only-of-type {\n",
       "        vertical-align: middle;\n",
       "    }\n",
       "\n",
       "    .dataframe tbody tr th {\n",
       "        vertical-align: top;\n",
       "    }\n",
       "\n",
       "    .dataframe thead th {\n",
       "        text-align: right;\n",
       "    }\n",
       "</style>\n",
       "<table border=\"1\" class=\"dataframe\">\n",
       "  <thead>\n",
       "    <tr style=\"text-align: right;\">\n",
       "      <th></th>\n",
       "      <th>id</th>\n",
       "      <th>symbol</th>\n",
       "      <th>slug</th>\n",
       "      <th>num_market_pairs</th>\n",
       "      <th>date_added</th>\n",
       "      <th>tags</th>\n",
       "      <th>max_supply</th>\n",
       "      <th>circulating_supply</th>\n",
       "      <th>total_supply</th>\n",
       "      <th>platform</th>\n",
       "      <th>...</th>\n",
       "      <th>quote.USD.percent_change_90d</th>\n",
       "      <th>quote.USD.market_cap</th>\n",
       "      <th>quote.USD.market_cap_dominance</th>\n",
       "      <th>quote.USD.fully_diluted_market_cap</th>\n",
       "      <th>quote.USD.last_updated</th>\n",
       "      <th>platform.id</th>\n",
       "      <th>platform.name</th>\n",
       "      <th>platform.symbol</th>\n",
       "      <th>platform.slug</th>\n",
       "      <th>platform.token_address</th>\n",
       "    </tr>\n",
       "    <tr>\n",
       "      <th>name</th>\n",
       "      <th></th>\n",
       "      <th></th>\n",
       "      <th></th>\n",
       "      <th></th>\n",
       "      <th></th>\n",
       "      <th></th>\n",
       "      <th></th>\n",
       "      <th></th>\n",
       "      <th></th>\n",
       "      <th></th>\n",
       "      <th></th>\n",
       "      <th></th>\n",
       "      <th></th>\n",
       "      <th></th>\n",
       "      <th></th>\n",
       "      <th></th>\n",
       "      <th></th>\n",
       "      <th></th>\n",
       "      <th></th>\n",
       "      <th></th>\n",
       "      <th></th>\n",
       "    </tr>\n",
       "  </thead>\n",
       "  <tbody>\n",
       "    <tr>\n",
       "      <th>Cardano</th>\n",
       "      <td>2010</td>\n",
       "      <td>ADA</td>\n",
       "      <td>cardano</td>\n",
       "      <td>307</td>\n",
       "      <td>2017-10-01T00:00:00.000Z</td>\n",
       "      <td>[mineable, dpos, pos, platform, research, smar...</td>\n",
       "      <td>4.500000e+10</td>\n",
       "      <td>3.292478e+10</td>\n",
       "      <td>3.331598e+10</td>\n",
       "      <td>NaN</td>\n",
       "      <td>...</td>\n",
       "      <td>73.595967</td>\n",
       "      <td>7.129524e+10</td>\n",
       "      <td>2.7266</td>\n",
       "      <td>9.744290e+10</td>\n",
       "      <td>2021-10-25T17:53:10.000Z</td>\n",
       "      <td>NaN</td>\n",
       "      <td>NaN</td>\n",
       "      <td>NaN</td>\n",
       "      <td>NaN</td>\n",
       "      <td>NaN</td>\n",
       "    </tr>\n",
       "  </tbody>\n",
       "</table>\n",
       "<p>1 rows × 30 columns</p>\n",
       "</div>"
      ],
      "text/plain": [
       "           id symbol     slug  num_market_pairs                date_added  \\\n",
       "name                                                                        \n",
       "Cardano  2010    ADA  cardano               307  2017-10-01T00:00:00.000Z   \n",
       "\n",
       "                                                      tags    max_supply  \\\n",
       "name                                                                       \n",
       "Cardano  [mineable, dpos, pos, platform, research, smar...  4.500000e+10   \n",
       "\n",
       "         circulating_supply  total_supply  platform  ...  \\\n",
       "name                                                 ...   \n",
       "Cardano        3.292478e+10  3.331598e+10       NaN  ...   \n",
       "\n",
       "         quote.USD.percent_change_90d quote.USD.market_cap  \\\n",
       "name                                                         \n",
       "Cardano                     73.595967         7.129524e+10   \n",
       "\n",
       "         quote.USD.market_cap_dominance  quote.USD.fully_diluted_market_cap  \\\n",
       "name                                                                          \n",
       "Cardano                          2.7266                        9.744290e+10   \n",
       "\n",
       "           quote.USD.last_updated  platform.id  platform.name  \\\n",
       "name                                                            \n",
       "Cardano  2021-10-25T17:53:10.000Z          NaN            NaN   \n",
       "\n",
       "         platform.symbol  platform.slug  platform.token_address  \n",
       "name                                                             \n",
       "Cardano              NaN            NaN                     NaN  \n",
       "\n",
       "[1 rows x 30 columns]"
      ]
     },
     "execution_count": 26,
     "metadata": {},
     "output_type": "execute_result"
    }
   ],
   "source": [
    "top_10 = df[df['cmc_rank']<=10]\n",
    "top_10.set_index('name', inplace=True)\n",
    "\n",
    "top_10.loc['Cardano'] # return Series vs DataFrame"
   ]
  },
  {
   "cell_type": "code",
   "execution_count": 29,
   "metadata": {
    "slideshow": {
     "slide_type": "subslide"
    }
   },
   "outputs": [
    {
     "data": {
      "image/png": "[encoded data removed]",
      "text/plain": [
       "<Figure size 720x720 with 1 Axes>"
      ]
     },
     "metadata": {
      "needs_background": "light"
     },
     "output_type": "display_data"
    }
   ],
   "source": [
    "top_10.plot.scatter(x='quote.USD.market_cap', y='quote.USD.volume_24h', loglog=True, figsize=(10,10));"
   ]
  },
  {
   "cell_type": "markdown",
   "metadata": {
    "slideshow": {
     "slide_type": "subslide"
    }
   },
   "source": [
    "### Join price df with my example holding spreadsheet"
   ]
  },
  {
   "cell_type": "code",
   "execution_count": 30,
   "metadata": {
    "slideshow": {
     "slide_type": "-"
    }
   },
   "outputs": [
    {
     "data": {
      "text/html": [
       "<div>\n",
       "<style scoped>\n",
       "    .dataframe tbody tr th:only-of-type {\n",
       "        vertical-align: middle;\n",
       "    }\n",
       "\n",
       "    .dataframe tbody tr th {\n",
       "        vertical-align: top;\n",
       "    }\n",
       "\n",
       "    .dataframe thead th {\n",
       "        text-align: right;\n",
       "    }\n",
       "</style>\n",
       "<table border=\"1\" class=\"dataframe\">\n",
       "  <thead>\n",
       "    <tr style=\"text-align: right;\">\n",
       "      <th></th>\n",
       "      <th>symbols</th>\n",
       "      <th>namn</th>\n",
       "      <th>navn</th>\n",
       "      <th>amount</th>\n",
       "    </tr>\n",
       "  </thead>\n",
       "  <tbody>\n",
       "    <tr>\n",
       "      <th>0</th>\n",
       "      <td>ETH</td>\n",
       "      <td>ethereum</td>\n",
       "      <td>Ethereum</td>\n",
       "      <td>3.45</td>\n",
       "    </tr>\n",
       "    <tr>\n",
       "      <th>1</th>\n",
       "      <td>BCH</td>\n",
       "      <td>bitcoin-cash</td>\n",
       "      <td>Bitcoin Cash</td>\n",
       "      <td>2.10</td>\n",
       "    </tr>\n",
       "    <tr>\n",
       "      <th>2</th>\n",
       "      <td>BTG</td>\n",
       "      <td>bitcoin-gold</td>\n",
       "      <td>Bitcoin Gold</td>\n",
       "      <td>14.00</td>\n",
       "    </tr>\n",
       "    <tr>\n",
       "      <th>3</th>\n",
       "      <td>NEO</td>\n",
       "      <td>neo</td>\n",
       "      <td>NEO</td>\n",
       "      <td>19.00</td>\n",
       "    </tr>\n",
       "    <tr>\n",
       "      <th>4</th>\n",
       "      <td>XRB</td>\n",
       "      <td>nano</td>\n",
       "      <td>Nano</td>\n",
       "      <td>126.00</td>\n",
       "    </tr>\n",
       "    <tr>\n",
       "      <th>5</th>\n",
       "      <td>VEN</td>\n",
       "      <td>vechain</td>\n",
       "      <td>VeChain</td>\n",
       "      <td>425.00</td>\n",
       "    </tr>\n",
       "    <tr>\n",
       "      <th>6</th>\n",
       "      <td>GNT</td>\n",
       "      <td>golem</td>\n",
       "      <td>Golem</td>\n",
       "      <td>3495.00</td>\n",
       "    </tr>\n",
       "    <tr>\n",
       "      <th>7</th>\n",
       "      <td>XRP</td>\n",
       "      <td>ripple</td>\n",
       "      <td>Ripple</td>\n",
       "      <td>1234.00</td>\n",
       "    </tr>\n",
       "    <tr>\n",
       "      <th>8</th>\n",
       "      <td>MIOTA</td>\n",
       "      <td>iota</td>\n",
       "      <td>IOTA</td>\n",
       "      <td>1493.00</td>\n",
       "    </tr>\n",
       "  </tbody>\n",
       "</table>\n",
       "</div>"
      ],
      "text/plain": [
       "  symbols          namn          navn   amount\n",
       "0     ETH      ethereum      Ethereum     3.45\n",
       "1     BCH  bitcoin-cash  Bitcoin Cash     2.10\n",
       "2     BTG  bitcoin-gold  Bitcoin Gold    14.00\n",
       "3     NEO           neo           NEO    19.00\n",
       "4     XRB          nano          Nano   126.00\n",
       "5     VEN       vechain       VeChain   425.00\n",
       "6     GNT         golem         Golem  3495.00\n",
       "7     XRP        ripple        Ripple  1234.00\n",
       "8   MIOTA          iota          IOTA  1493.00"
      ]
     },
     "execution_count": 30,
     "metadata": {},
     "output_type": "execute_result"
    }
   ],
   "source": [
    "have = pd.read_csv('example_crypto_holdings.csv')\n",
    "have"
   ]
  },
  {
   "cell_type": "code",
   "execution_count": 31,
   "metadata": {
    "slideshow": {
     "slide_type": "slide"
    }
   },
   "outputs": [
    {
     "data": {
      "text/html": [
       "<div>\n",
       "<style scoped>\n",
       "    .dataframe tbody tr th:only-of-type {\n",
       "        vertical-align: middle;\n",
       "    }\n",
       "\n",
       "    .dataframe tbody tr th {\n",
       "        vertical-align: top;\n",
       "    }\n",
       "\n",
       "    .dataframe thead th {\n",
       "        text-align: right;\n",
       "    }\n",
       "</style>\n",
       "<table border=\"1\" class=\"dataframe\">\n",
       "  <thead>\n",
       "    <tr style=\"text-align: right;\">\n",
       "      <th></th>\n",
       "      <th>symbols</th>\n",
       "      <th>namn</th>\n",
       "      <th>navn</th>\n",
       "      <th>amount</th>\n",
       "      <th>id</th>\n",
       "      <th>name</th>\n",
       "      <th>symbol</th>\n",
       "      <th>slug</th>\n",
       "      <th>num_market_pairs</th>\n",
       "      <th>date_added</th>\n",
       "      <th>...</th>\n",
       "      <th>quote.USD.percent_change_90d</th>\n",
       "      <th>quote.USD.market_cap</th>\n",
       "      <th>quote.USD.market_cap_dominance</th>\n",
       "      <th>quote.USD.fully_diluted_market_cap</th>\n",
       "      <th>quote.USD.last_updated</th>\n",
       "      <th>platform.id</th>\n",
       "      <th>platform.name</th>\n",
       "      <th>platform.symbol</th>\n",
       "      <th>platform.slug</th>\n",
       "      <th>platform.token_address</th>\n",
       "    </tr>\n",
       "  </thead>\n",
       "  <tbody>\n",
       "    <tr>\n",
       "      <th>0</th>\n",
       "      <td>ETH</td>\n",
       "      <td>ethereum</td>\n",
       "      <td>Ethereum</td>\n",
       "      <td>3.45</td>\n",
       "      <td>1027</td>\n",
       "      <td>Ethereum</td>\n",
       "      <td>ETH</td>\n",
       "      <td>ethereum</td>\n",
       "      <td>4650</td>\n",
       "      <td>2015-08-07T00:00:00.000Z</td>\n",
       "      <td>...</td>\n",
       "      <td>87.784077</td>\n",
       "      <td>4.945416e+11</td>\n",
       "      <td>18.8640</td>\n",
       "      <td>4.945416e+11</td>\n",
       "      <td>2021-10-25T17:54:02.000Z</td>\n",
       "      <td>NaN</td>\n",
       "      <td>NaN</td>\n",
       "      <td>NaN</td>\n",
       "      <td>NaN</td>\n",
       "      <td>NaN</td>\n",
       "    </tr>\n",
       "    <tr>\n",
       "      <th>1</th>\n",
       "      <td>BCH</td>\n",
       "      <td>bitcoin-cash</td>\n",
       "      <td>Bitcoin Cash</td>\n",
       "      <td>2.10</td>\n",
       "      <td>1831</td>\n",
       "      <td>Bitcoin Cash</td>\n",
       "      <td>BCH</td>\n",
       "      <td>bitcoin-cash</td>\n",
       "      <td>540</td>\n",
       "      <td>2017-07-23T00:00:00.000Z</td>\n",
       "      <td>...</td>\n",
       "      <td>27.156179</td>\n",
       "      <td>1.173494e+10</td>\n",
       "      <td>0.4488</td>\n",
       "      <td>1.305120e+10</td>\n",
       "      <td>2021-10-25T17:53:08.000Z</td>\n",
       "      <td>NaN</td>\n",
       "      <td>NaN</td>\n",
       "      <td>NaN</td>\n",
       "      <td>NaN</td>\n",
       "      <td>NaN</td>\n",
       "    </tr>\n",
       "    <tr>\n",
       "      <th>2</th>\n",
       "      <td>BTG</td>\n",
       "      <td>bitcoin-gold</td>\n",
       "      <td>Bitcoin Gold</td>\n",
       "      <td>14.00</td>\n",
       "      <td>2083</td>\n",
       "      <td>Bitcoin Gold</td>\n",
       "      <td>BTG</td>\n",
       "      <td>bitcoin-gold</td>\n",
       "      <td>61</td>\n",
       "      <td>2017-10-23T00:00:00.000Z</td>\n",
       "      <td>...</td>\n",
       "      <td>54.041818</td>\n",
       "      <td>1.213200e+09</td>\n",
       "      <td>0.0463</td>\n",
       "      <td>1.454683e+09</td>\n",
       "      <td>2021-10-25T17:54:02.000Z</td>\n",
       "      <td>NaN</td>\n",
       "      <td>NaN</td>\n",
       "      <td>NaN</td>\n",
       "      <td>NaN</td>\n",
       "      <td>NaN</td>\n",
       "    </tr>\n",
       "    <tr>\n",
       "      <th>3</th>\n",
       "      <td>XRB</td>\n",
       "      <td>nano</td>\n",
       "      <td>Nano</td>\n",
       "      <td>126.00</td>\n",
       "      <td>1567</td>\n",
       "      <td>Nano</td>\n",
       "      <td>NANO</td>\n",
       "      <td>nano</td>\n",
       "      <td>53</td>\n",
       "      <td>2017-03-06T00:00:00.000Z</td>\n",
       "      <td>...</td>\n",
       "      <td>34.415505</td>\n",
       "      <td>7.266790e+08</td>\n",
       "      <td>0.0278</td>\n",
       "      <td>7.266790e+08</td>\n",
       "      <td>2021-10-25T17:54:06.000Z</td>\n",
       "      <td>NaN</td>\n",
       "      <td>NaN</td>\n",
       "      <td>NaN</td>\n",
       "      <td>NaN</td>\n",
       "      <td>NaN</td>\n",
       "    </tr>\n",
       "    <tr>\n",
       "      <th>4</th>\n",
       "      <td>VEN</td>\n",
       "      <td>vechain</td>\n",
       "      <td>VeChain</td>\n",
       "      <td>425.00</td>\n",
       "      <td>3077</td>\n",
       "      <td>VeChain</td>\n",
       "      <td>VET</td>\n",
       "      <td>vechain</td>\n",
       "      <td>147</td>\n",
       "      <td>2017-08-22T00:00:00.000Z</td>\n",
       "      <td>...</td>\n",
       "      <td>71.747241</td>\n",
       "      <td>8.986511e+09</td>\n",
       "      <td>0.3428</td>\n",
       "      <td>1.211595e+10</td>\n",
       "      <td>2021-10-25T17:54:02.000Z</td>\n",
       "      <td>NaN</td>\n",
       "      <td>NaN</td>\n",
       "      <td>NaN</td>\n",
       "      <td>NaN</td>\n",
       "      <td>NaN</td>\n",
       "    </tr>\n",
       "    <tr>\n",
       "      <th>5</th>\n",
       "      <td>GNT</td>\n",
       "      <td>golem</td>\n",
       "      <td>Golem</td>\n",
       "      <td>3495.00</td>\n",
       "      <td>1455</td>\n",
       "      <td>Golem</td>\n",
       "      <td>GLM</td>\n",
       "      <td>golem-network-tokens</td>\n",
       "      <td>49</td>\n",
       "      <td>2016-11-18T00:00:00.000Z</td>\n",
       "      <td>...</td>\n",
       "      <td>57.834660</td>\n",
       "      <td>5.425558e+08</td>\n",
       "      <td>0.0207</td>\n",
       "      <td>5.425558e+08</td>\n",
       "      <td>2021-10-25T17:54:05.000Z</td>\n",
       "      <td>1027.0</td>\n",
       "      <td>Ethereum</td>\n",
       "      <td>ETH</td>\n",
       "      <td>ethereum</td>\n",
       "      <td>0x7DD9c5Cba05E151C895FDe1CF355C9A1D5DA6429</td>\n",
       "    </tr>\n",
       "    <tr>\n",
       "      <th>6</th>\n",
       "      <td>MIOTA</td>\n",
       "      <td>iota</td>\n",
       "      <td>IOTA</td>\n",
       "      <td>1493.00</td>\n",
       "      <td>1720</td>\n",
       "      <td>IOTA</td>\n",
       "      <td>MIOTA</td>\n",
       "      <td>iota</td>\n",
       "      <td>61</td>\n",
       "      <td>2017-06-13T00:00:00.000Z</td>\n",
       "      <td>...</td>\n",
       "      <td>58.143096</td>\n",
       "      <td>3.723347e+09</td>\n",
       "      <td>0.1420</td>\n",
       "      <td>3.723347e+09</td>\n",
       "      <td>2021-10-25T17:54:07.000Z</td>\n",
       "      <td>NaN</td>\n",
       "      <td>NaN</td>\n",
       "      <td>NaN</td>\n",
       "      <td>NaN</td>\n",
       "      <td>NaN</td>\n",
       "    </tr>\n",
       "  </tbody>\n",
       "</table>\n",
       "<p>7 rows × 35 columns</p>\n",
       "</div>"
      ],
      "text/plain": [
       "  symbols          namn          navn   amount    id          name symbol  \\\n",
       "0     ETH      ethereum      Ethereum     3.45  1027      Ethereum    ETH   \n",
       "1     BCH  bitcoin-cash  Bitcoin Cash     2.10  1831  Bitcoin Cash    BCH   \n",
       "2     BTG  bitcoin-gold  Bitcoin Gold    14.00  2083  Bitcoin Gold    BTG   \n",
       "3     XRB          nano          Nano   126.00  1567          Nano   NANO   \n",
       "4     VEN       vechain       VeChain   425.00  3077       VeChain    VET   \n",
       "5     GNT         golem         Golem  3495.00  1455         Golem    GLM   \n",
       "6   MIOTA          iota          IOTA  1493.00  1720          IOTA  MIOTA   \n",
       "\n",
       "                   slug  num_market_pairs                date_added  ...  \\\n",
       "0              ethereum              4650  2015-08-07T00:00:00.000Z  ...   \n",
       "1          bitcoin-cash               540  2017-07-23T00:00:00.000Z  ...   \n",
       "2          bitcoin-gold                61  2017-10-23T00:00:00.000Z  ...   \n",
       "3                  nano                53  2017-03-06T00:00:00.000Z  ...   \n",
       "4               vechain               147  2017-08-22T00:00:00.000Z  ...   \n",
       "5  golem-network-tokens                49  2016-11-18T00:00:00.000Z  ...   \n",
       "6                  iota                61  2017-06-13T00:00:00.000Z  ...   \n",
       "\n",
       "  quote.USD.percent_change_90d  quote.USD.market_cap  \\\n",
       "0                    87.784077          4.945416e+11   \n",
       "1                    27.156179          1.173494e+10   \n",
       "2                    54.041818          1.213200e+09   \n",
       "3                    34.415505          7.266790e+08   \n",
       "4                    71.747241          8.986511e+09   \n",
       "5                    57.834660          5.425558e+08   \n",
       "6                    58.143096          3.723347e+09   \n",
       "\n",
       "   quote.USD.market_cap_dominance  quote.USD.fully_diluted_market_cap  \\\n",
       "0                         18.8640                        4.945416e+11   \n",
       "1                          0.4488                        1.305120e+10   \n",
       "2                          0.0463                        1.454683e+09   \n",
       "3                          0.0278                        7.266790e+08   \n",
       "4                          0.3428                        1.211595e+10   \n",
       "5                          0.0207                        5.425558e+08   \n",
       "6                          0.1420                        3.723347e+09   \n",
       "\n",
       "     quote.USD.last_updated  platform.id platform.name  platform.symbol  \\\n",
       "0  2021-10-25T17:54:02.000Z          NaN           NaN              NaN   \n",
       "1  2021-10-25T17:53:08.000Z          NaN           NaN              NaN   \n",
       "2  2021-10-25T17:54:02.000Z          NaN           NaN              NaN   \n",
       "3  2021-10-25T17:54:06.000Z          NaN           NaN              NaN   \n",
       "4  2021-10-25T17:54:02.000Z          NaN           NaN              NaN   \n",
       "5  2021-10-25T17:54:05.000Z       1027.0      Ethereum              ETH   \n",
       "6  2021-10-25T17:54:07.000Z          NaN           NaN              NaN   \n",
       "\n",
       "   platform.slug                      platform.token_address  \n",
       "0            NaN                                         NaN  \n",
       "1            NaN                                         NaN  \n",
       "2            NaN                                         NaN  \n",
       "3            NaN                                         NaN  \n",
       "4            NaN                                         NaN  \n",
       "5       ethereum  0x7DD9c5Cba05E151C895FDe1CF355C9A1D5DA6429  \n",
       "6            NaN                                         NaN  \n",
       "\n",
       "[7 rows x 35 columns]"
      ]
     },
     "execution_count": 31,
     "metadata": {},
     "output_type": "execute_result"
    }
   ],
   "source": [
    "have.merge(df, left_on='navn', right_on=\"name\")"
   ]
  },
  {
   "cell_type": "code",
   "execution_count": 32,
   "metadata": {
    "slideshow": {
     "slide_type": "fragment"
    }
   },
   "outputs": [],
   "source": [
    "has = have.join(df.set_index('name'), on='navn', how='left').set_index('id')\n",
    "has['worth'] = has.amount*has[\"quote.USD.price\"]\n",
    "\n",
    "# Filter out coins with no trade volume\n",
    "has = has[has['quote.USD.volume_24h'].notnull()]\n",
    "has.set_index(\"symbol\", inplace=True)"
   ]
  },
  {
   "cell_type": "markdown",
   "metadata": {
    "slideshow": {
     "slide_type": "skip"
    }
   },
   "source": [
    "### Find USD/NOK exchange rate"
   ]
  },
  {
   "cell_type": "code",
   "execution_count": 53,
   "metadata": {
    "slideshow": {
     "slide_type": "skip"
    }
   },
   "outputs": [
    {
     "ename": "KeyError",
     "evalue": "'rates'",
     "output_type": "error",
     "traceback": [
      "\u001b[0;31m---------------------------------------------------------------------------\u001b[0m",
      "\u001b[0;31mKeyError\u001b[0m                                  Traceback (most recent call last)",
      "\u001b[0;32m/tmp/ipykernel_2226749/3414395503.py\u001b[0m in \u001b[0;36m<module>\u001b[0;34m\u001b[0m\n\u001b[1;32m      1\u001b[0m \u001b[0murl_exchange\u001b[0m \u001b[0;34m=\u001b[0m \u001b[0;34m'https://api.fixer.io/latest?symbols=USD,NOK'\u001b[0m\u001b[0;34m\u001b[0m\u001b[0;34m\u001b[0m\u001b[0m\n\u001b[1;32m      2\u001b[0m \u001b[0mr\u001b[0m \u001b[0;34m=\u001b[0m \u001b[0mrequests\u001b[0m\u001b[0;34m.\u001b[0m\u001b[0mget\u001b[0m\u001b[0;34m(\u001b[0m\u001b[0murl_exchange\u001b[0m\u001b[0;34m)\u001b[0m\u001b[0;34m\u001b[0m\u001b[0;34m\u001b[0m\u001b[0m\n\u001b[0;32m----> 3\u001b[0;31m \u001b[0mNOK_USD\u001b[0m \u001b[0;34m=\u001b[0m \u001b[0mr\u001b[0m\u001b[0;34m.\u001b[0m\u001b[0mjson\u001b[0m\u001b[0;34m(\u001b[0m\u001b[0;34m)\u001b[0m\u001b[0;34m[\u001b[0m\u001b[0;34m'rates'\u001b[0m\u001b[0;34m]\u001b[0m\u001b[0;34m[\u001b[0m\u001b[0;34m'NOK'\u001b[0m\u001b[0;34m]\u001b[0m\u001b[0;34m\u001b[0m\u001b[0;34m\u001b[0m\u001b[0m\n\u001b[0m\u001b[1;32m      4\u001b[0m \u001b[0mhas\u001b[0m\u001b[0;34m[\u001b[0m\u001b[0;34m'worth_nok'\u001b[0m\u001b[0;34m]\u001b[0m \u001b[0;34m=\u001b[0m \u001b[0mhas\u001b[0m\u001b[0;34m[\u001b[0m\u001b[0;34m'worth'\u001b[0m\u001b[0;34m]\u001b[0m\u001b[0;34m*\u001b[0m\u001b[0mNOK_USD\u001b[0m\u001b[0;34m\u001b[0m\u001b[0;34m\u001b[0m\u001b[0m\n\u001b[1;32m      5\u001b[0m \u001b[0mhas\u001b[0m\u001b[0;34m[\u001b[0m\u001b[0;34m[\u001b[0m\u001b[0;34m'price_usd'\u001b[0m\u001b[0;34m,\u001b[0m \u001b[0;34m'worth'\u001b[0m\u001b[0;34m,\u001b[0m\u001b[0;34m'worth_nok'\u001b[0m\u001b[0;34m]\u001b[0m\u001b[0;34m]\u001b[0m\u001b[0;34m,\u001b[0m \u001b[0mhas\u001b[0m\u001b[0;34m[\u001b[0m\u001b[0;34m'worth_nok'\u001b[0m\u001b[0;34m]\u001b[0m\u001b[0;34m.\u001b[0m\u001b[0msum\u001b[0m\u001b[0;34m(\u001b[0m\u001b[0;34m)\u001b[0m\u001b[0;34m\u001b[0m\u001b[0;34m\u001b[0m\u001b[0m\n",
      "\u001b[0;31mKeyError\u001b[0m: 'rates'"
     ]
    }
   ],
   "source": [
    "url_exchange = 'https://api.fixer.io/latest?symbols=USD,NOK'\n",
    "r = requests.get(url_exchange)\n",
    "NOK_USD = r.json()['rates']['NOK']\n",
    "has['worth_nok'] = has['worth']*NOK_USD\n",
    "has[['price_usd', 'worth','worth_nok']], has['worth_nok'].sum()"
   ]
  },
  {
   "cell_type": "markdown",
   "metadata": {
    "slideshow": {
     "slide_type": "subslide"
    }
   },
   "source": [
    "### Visualize my portfolio"
   ]
  },
  {
   "cell_type": "code",
   "execution_count": 33,
   "metadata": {
    "slideshow": {
     "slide_type": "-"
    }
   },
   "outputs": [
    {
     "data": {
      "image/png": "[encoded data removed]",
      "text/plain": [
       "<Figure size 864x504 with 1 Axes>"
      ]
     },
     "metadata": {
      "needs_background": "light"
     },
     "output_type": "display_data"
    }
   ],
   "source": [
    "has['worth'].plot(kind='bar');"
   ]
  },
  {
   "cell_type": "code",
   "execution_count": 17,
   "metadata": {
    "scrolled": true,
    "slideshow": {
     "slide_type": "skip"
    }
   },
   "outputs": [
    {
     "data": {
      "text/plain": [
       "<AxesSubplot:xlabel='symbol'>"
      ]
     },
     "execution_count": 17,
     "metadata": {},
     "output_type": "execute_result"
    },
    {
     "data": {
      "image/png": "[encoded data removed]",
      "text/plain": [
       "<Figure size 864x504 with 1 Axes>"
      ]
     },
     "metadata": {
      "needs_background": "light"
     },
     "output_type": "display_data"
    }
   ],
   "source": [
    "has['quote.USD.volume_24h'].plot(kind='bar') #logy=True"
   ]
  },
  {
   "cell_type": "code",
   "execution_count": 34,
   "metadata": {
    "slideshow": {
     "slide_type": "subslide"
    }
   },
   "outputs": [
    {
     "ename": "KeyError",
     "evalue": "\"None of [Index(['percent_change_1h', 'percent_change_24h', 'percent_change_7d'], dtype='object')] are in the [columns]\"",
     "output_type": "error",
     "traceback": [
      "\u001b[0;31m---------------------------------------------------------------------------\u001b[0m",
      "\u001b[0;31mKeyError\u001b[0m                                  Traceback (most recent call last)",
      "\u001b[0;32m/tmp/ipykernel_3338528/2105051347.py\u001b[0m in \u001b[0;36m<module>\u001b[0;34m\u001b[0m\n\u001b[0;32m----> 1\u001b[0;31m \u001b[0mhas\u001b[0m\u001b[0;34m[\u001b[0m\u001b[0;34m[\u001b[0m\u001b[0;34m'percent_change_1h'\u001b[0m\u001b[0;34m,\u001b[0m\u001b[0;34m'percent_change_24h'\u001b[0m\u001b[0;34m,\u001b[0m\u001b[0;34m'percent_change_7d'\u001b[0m\u001b[0;34m]\u001b[0m\u001b[0;34m]\u001b[0m\u001b[0;34m.\u001b[0m\u001b[0mplot\u001b[0m\u001b[0;34m(\u001b[0m\u001b[0mkind\u001b[0m\u001b[0;34m=\u001b[0m\u001b[0;34m'bar'\u001b[0m\u001b[0;34m)\u001b[0m\u001b[0;34m;\u001b[0m\u001b[0;34m\u001b[0m\u001b[0;34m\u001b[0m\u001b[0m\n\u001b[0m",
      "\u001b[0;32m~/code/envs/sr_env/lib/python3.8/site-packages/pandas/core/frame.py\u001b[0m in \u001b[0;36m__getitem__\u001b[0;34m(self, key)\u001b[0m\n\u001b[1;32m   3462\u001b[0m             \u001b[0;32mif\u001b[0m \u001b[0mis_iterator\u001b[0m\u001b[0;34m(\u001b[0m\u001b[0mkey\u001b[0m\u001b[0;34m)\u001b[0m\u001b[0;34m:\u001b[0m\u001b[0;34m\u001b[0m\u001b[0;34m\u001b[0m\u001b[0m\n\u001b[1;32m   3463\u001b[0m                 \u001b[0mkey\u001b[0m \u001b[0;34m=\u001b[0m \u001b[0mlist\u001b[0m\u001b[0;34m(\u001b[0m\u001b[0mkey\u001b[0m\u001b[0;34m)\u001b[0m\u001b[0;34m\u001b[0m\u001b[0;34m\u001b[0m\u001b[0m\n\u001b[0;32m-> 3464\u001b[0;31m             \u001b[0mindexer\u001b[0m \u001b[0;34m=\u001b[0m \u001b[0mself\u001b[0m\u001b[0;34m.\u001b[0m\u001b[0mloc\u001b[0m\u001b[0;34m.\u001b[0m\u001b[0m_get_listlike_indexer\u001b[0m\u001b[0;34m(\u001b[0m\u001b[0mkey\u001b[0m\u001b[0;34m,\u001b[0m \u001b[0maxis\u001b[0m\u001b[0;34m=\u001b[0m\u001b[0;36m1\u001b[0m\u001b[0;34m)\u001b[0m\u001b[0;34m[\u001b[0m\u001b[0;36m1\u001b[0m\u001b[0;34m]\u001b[0m\u001b[0;34m\u001b[0m\u001b[0;34m\u001b[0m\u001b[0m\n\u001b[0m\u001b[1;32m   3465\u001b[0m \u001b[0;34m\u001b[0m\u001b[0m\n\u001b[1;32m   3466\u001b[0m         \u001b[0;31m# take() does not accept boolean indexers\u001b[0m\u001b[0;34m\u001b[0m\u001b[0;34m\u001b[0m\u001b[0;34m\u001b[0m\u001b[0m\n",
      "\u001b[0;32m~/code/envs/sr_env/lib/python3.8/site-packages/pandas/core/indexing.py\u001b[0m in \u001b[0;36m_get_listlike_indexer\u001b[0;34m(self, key, axis)\u001b[0m\n\u001b[1;32m   1312\u001b[0m             \u001b[0mkeyarr\u001b[0m\u001b[0;34m,\u001b[0m \u001b[0mindexer\u001b[0m\u001b[0;34m,\u001b[0m \u001b[0mnew_indexer\u001b[0m \u001b[0;34m=\u001b[0m \u001b[0max\u001b[0m\u001b[0;34m.\u001b[0m\u001b[0m_reindex_non_unique\u001b[0m\u001b[0;34m(\u001b[0m\u001b[0mkeyarr\u001b[0m\u001b[0;34m)\u001b[0m\u001b[0;34m\u001b[0m\u001b[0;34m\u001b[0m\u001b[0m\n\u001b[1;32m   1313\u001b[0m \u001b[0;34m\u001b[0m\u001b[0m\n\u001b[0;32m-> 1314\u001b[0;31m         \u001b[0mself\u001b[0m\u001b[0;34m.\u001b[0m\u001b[0m_validate_read_indexer\u001b[0m\u001b[0;34m(\u001b[0m\u001b[0mkeyarr\u001b[0m\u001b[0;34m,\u001b[0m \u001b[0mindexer\u001b[0m\u001b[0;34m,\u001b[0m \u001b[0maxis\u001b[0m\u001b[0;34m)\u001b[0m\u001b[0;34m\u001b[0m\u001b[0;34m\u001b[0m\u001b[0m\n\u001b[0m\u001b[1;32m   1315\u001b[0m \u001b[0;34m\u001b[0m\u001b[0m\n\u001b[1;32m   1316\u001b[0m         if needs_i8_conversion(ax.dtype) or isinstance(\n",
      "\u001b[0;32m~/code/envs/sr_env/lib/python3.8/site-packages/pandas/core/indexing.py\u001b[0m in \u001b[0;36m_validate_read_indexer\u001b[0;34m(self, key, indexer, axis)\u001b[0m\n\u001b[1;32m   1372\u001b[0m                 \u001b[0;32mif\u001b[0m \u001b[0muse_interval_msg\u001b[0m\u001b[0;34m:\u001b[0m\u001b[0;34m\u001b[0m\u001b[0;34m\u001b[0m\u001b[0m\n\u001b[1;32m   1373\u001b[0m                     \u001b[0mkey\u001b[0m \u001b[0;34m=\u001b[0m \u001b[0mlist\u001b[0m\u001b[0;34m(\u001b[0m\u001b[0mkey\u001b[0m\u001b[0;34m)\u001b[0m\u001b[0;34m\u001b[0m\u001b[0;34m\u001b[0m\u001b[0m\n\u001b[0;32m-> 1374\u001b[0;31m                 \u001b[0;32mraise\u001b[0m \u001b[0mKeyError\u001b[0m\u001b[0;34m(\u001b[0m\u001b[0;34mf\"None of [{key}] are in the [{axis_name}]\"\u001b[0m\u001b[0;34m)\u001b[0m\u001b[0;34m\u001b[0m\u001b[0;34m\u001b[0m\u001b[0m\n\u001b[0m\u001b[1;32m   1375\u001b[0m \u001b[0;34m\u001b[0m\u001b[0m\n\u001b[1;32m   1376\u001b[0m             \u001b[0mnot_found\u001b[0m \u001b[0;34m=\u001b[0m \u001b[0mlist\u001b[0m\u001b[0;34m(\u001b[0m\u001b[0mensure_index\u001b[0m\u001b[0;34m(\u001b[0m\u001b[0mkey\u001b[0m\u001b[0;34m)\u001b[0m\u001b[0;34m[\u001b[0m\u001b[0mmissing_mask\u001b[0m\u001b[0;34m.\u001b[0m\u001b[0mnonzero\u001b[0m\u001b[0;34m(\u001b[0m\u001b[0;34m)\u001b[0m\u001b[0;34m[\u001b[0m\u001b[0;36m0\u001b[0m\u001b[0;34m]\u001b[0m\u001b[0;34m]\u001b[0m\u001b[0;34m.\u001b[0m\u001b[0munique\u001b[0m\u001b[0;34m(\u001b[0m\u001b[0;34m)\u001b[0m\u001b[0;34m)\u001b[0m\u001b[0;34m\u001b[0m\u001b[0;34m\u001b[0m\u001b[0m\n",
      "\u001b[0;31mKeyError\u001b[0m: \"None of [Index(['percent_change_1h', 'percent_change_24h', 'percent_change_7d'], dtype='object')] are in the [columns]\""
     ]
    }
   ],
   "source": [
    "has[['percent_change_1h','percent_change_24h','percent_change_7d']].plot(kind='bar');"
   ]
  },
  {
   "cell_type": "markdown",
   "metadata": {
    "slideshow": {
     "slide_type": "subslide"
    }
   },
   "source": [
    "Change in portfolio 1 hour, 24 hours, 7 days?"
   ]
  },
  {
   "cell_type": "code",
   "execution_count": 50,
   "metadata": {
    "slideshow": {
     "slide_type": "fragment"
    }
   },
   "outputs": [
    {
     "data": {
      "image/png": "[encoded data removed]",
      "text/plain": [
       "<Figure size 864x504 with 1 Axes>"
      ]
     },
     "metadata": {
      "needs_background": "light"
     },
     "output_type": "display_data"
    }
   ],
   "source": [
    "df1 = has[['quote.USD.percent_change_1h','quote.USD.percent_change_24h','quote.USD.percent_change_7d']].apply(lambda r: r*has.amount*has[\"quote.USD.price\"])/100\n",
    "df1.plot(kind='bar'), df1.sum();"
   ]
  },
  {
   "cell_type": "markdown",
   "metadata": {},
   "source": [
    "What was portfolio 24 hours, 7 days ago?"
   ]
  },
  {
   "cell_type": "code",
   "execution_count": 52,
   "metadata": {
    "slideshow": {
     "slide_type": "subslide"
    }
   },
   "outputs": [
    {
     "data": {
      "image/png": "[encoded data removed]",
      "text/plain": [
       "<Figure size 864x504 with 1 Axes>"
      ]
     },
     "metadata": {
      "needs_background": "light"
     },
     "output_type": "display_data"
    }
   ],
   "source": [
    "df2 = has[['quote.USD.percent_change_7d', 'quote.USD.percent_change_24h']].apply(lambda r:  r*(has.amount*has[\"quote.USD.price\"]))/100\n",
    "\n",
    "df2 = df2.apply(lambda r: has.worth-r, axis=0)\n",
    "df2['worth'] = has.worth\n",
    "df2.plot(kind='bar');"
   ]
  },
  {
   "cell_type": "code",
   "execution_count": 59,
   "metadata": {
    "slideshow": {
     "slide_type": "subslide"
    }
   },
   "outputs": [
    {
     "data": {
      "image/png": "[encoded data removed]",
      "text/plain": [
       "<Figure size 864x864 with 1 Axes>"
      ]
     },
     "metadata": {},
     "output_type": "display_data"
    }
   ],
   "source": [
    "df2.plot.pie(y=\"worth\", figsize=(12,12));"
   ]
  }
 ],
 "metadata": {
  "celltoolbar": "Slideshow",
  "kernelspec": {
   "display_name": "Python 3",
   "language": "python",
   "name": "python3"
  },
  "language_info": {
   "codemirror_mode": {
    "name": "ipython",
    "version": 3
   },
   "file_extension": ".py",
   "mimetype": "text/x-python",
   "name": "python",
   "nbconvert_exporter": "python",
   "pygments_lexer": "ipython3",
   "version": "3.8.10"
  }
 },
 "nbformat": 4,
 "nbformat_minor": 2
}
