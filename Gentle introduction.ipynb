{
 "cells": [
  {
   "cell_type": "code",
   "execution_count": 1,
   "id": "199fd4b0",
   "metadata": {},
   "outputs": [],
   "source": [
    "import matplotlib\n",
    "%matplotlib inline\n",
    "matplotlib.rcParams['figure.figsize'] = (12,8)\n",
    "matplotlib.rcParams['font.size'] = 22"
   ]
  },
  {
   "cell_type": "markdown",
   "id": "477f13e1",
   "metadata": {
    "slideshow": {
     "slide_type": "slide"
    }
   },
   "source": [
    "### Series\n",
    "\n",
    "Imagine you have a list my_high_scores = [3, 24, 5]"
   ]
  },
  {
   "cell_type": "code",
   "execution_count": 3,
   "id": "723a9f8f",
   "metadata": {
    "slideshow": {
     "slide_type": "fragment"
    }
   },
   "outputs": [
    {
     "data": {
      "text/plain": [
       "[3, 24, 5]"
      ]
     },
     "execution_count": 3,
     "metadata": {},
     "output_type": "execute_result"
    }
   ],
   "source": [
    "my_high_scores = [3, 24, 5]\n",
    "my_high_scores"
   ]
  },
  {
   "cell_type": "code",
   "execution_count": 5,
   "id": "6318ebc7",
   "metadata": {
    "slideshow": {
     "slide_type": "subslide"
    }
   },
   "outputs": [
    {
     "data": {
      "text/plain": [
       "0     3\n",
       "1    24\n",
       "2     5\n",
       "dtype: int64"
      ]
     },
     "execution_count": 5,
     "metadata": {},
     "output_type": "execute_result"
    }
   ],
   "source": [
    "import pandas as pd\n",
    "\n",
    "s = pd.Series(my_high_scores)\n",
    "s"
   ]
  },
  {
   "cell_type": "markdown",
   "id": "ee049a00",
   "metadata": {
    "slideshow": {
     "slide_type": "skip"
    }
   },
   "source": [
    "We get a type and an index"
   ]
  },
  {
   "cell_type": "code",
   "execution_count": 6,
   "id": "74d4bd32",
   "metadata": {
    "slideshow": {
     "slide_type": "fragment"
    }
   },
   "outputs": [],
   "source": [
    "s?"
   ]
  },
  {
   "cell_type": "code",
   "execution_count": 9,
   "id": "802364cf",
   "metadata": {
    "slideshow": {
     "slide_type": "subslide"
    }
   },
   "outputs": [
    {
     "data": {
      "text/plain": [
       "1    24\n",
       "2     5\n",
       "dtype: int64"
      ]
     },
     "execution_count": 9,
     "metadata": {},
     "output_type": "execute_result"
    }
   ],
   "source": [
    "# Accessing elements\n",
    "# s[0], s[1:]\n",
    "s[1:]"
   ]
  },
  {
   "cell_type": "code",
   "execution_count": 10,
   "id": "6b558e92",
   "metadata": {
    "slideshow": {
     "slide_type": "subslide"
    }
   },
   "outputs": [
    {
     "data": {
      "text/plain": [
       "0     3\n",
       "1    24\n",
       "2     5\n",
       "Name: High Scores, dtype: int64"
      ]
     },
     "execution_count": 10,
     "metadata": {},
     "output_type": "execute_result"
    }
   ],
   "source": [
    "s.name = \"High Scores\"\n",
    "s"
   ]
  },
  {
   "cell_type": "markdown",
   "id": "f04e728e",
   "metadata": {
    "slideshow": {
     "slide_type": "subslide"
    }
   },
   "source": [
    "The index"
   ]
  },
  {
   "cell_type": "code",
   "execution_count": 11,
   "id": "b25b684c",
   "metadata": {
    "slideshow": {
     "slide_type": "-"
    }
   },
   "outputs": [
    {
     "data": {
      "text/plain": [
       "['Underground', 'Athletic', 'Castle']"
      ]
     },
     "execution_count": 11,
     "metadata": {},
     "output_type": "execute_result"
    }
   ],
   "source": [
    "levels = [\n",
    "    \"Underground\",\n",
    "    \"Athletic\",\n",
    "    \"Castle\"\n",
    "]\n",
    "levels"
   ]
  },
  {
   "cell_type": "code",
   "execution_count": 12,
   "id": "aa153c97",
   "metadata": {
    "slideshow": {
     "slide_type": "fragment"
    }
   },
   "outputs": [
    {
     "data": {
      "text/plain": [
       "Underground     3\n",
       "Athletic       24\n",
       "Castle          5\n",
       "Name: High Scores, dtype: int64"
      ]
     },
     "execution_count": 12,
     "metadata": {},
     "output_type": "execute_result"
    }
   ],
   "source": [
    "s.index = levels\n",
    "s"
   ]
  },
  {
   "cell_type": "code",
   "execution_count": 17,
   "id": "684f4537",
   "metadata": {
    "slideshow": {
     "slide_type": "subslide"
    }
   },
   "outputs": [
    {
     "data": {
      "text/plain": [
       "Underground     3\n",
       "Athletic       24\n",
       "Castle          5\n",
       "Name: High Scores, dtype: int64"
      ]
     },
     "execution_count": 17,
     "metadata": {},
     "output_type": "execute_result"
    }
   ],
   "source": [
    "s[0]\n",
    "s.iloc[1]\n",
    "s"
   ]
  },
  {
   "cell_type": "code",
   "execution_count": 18,
   "id": "7dded3f5",
   "metadata": {
    "slideshow": {
     "slide_type": "subslide"
    }
   },
   "outputs": [
    {
     "data": {
      "text/plain": [
       "Underground     3\n",
       "Athletic       24\n",
       "Castle          5\n",
       "dtype: int64"
      ]
     },
     "execution_count": 18,
     "metadata": {},
     "output_type": "execute_result"
    }
   ],
   "source": [
    "high_scores = {\n",
    "    \"Underground\": 3,\n",
    "    \"Athletic\": 24,\n",
    "    \"Castle\": 5\n",
    "}\n",
    "pd.Series(high_scores)"
   ]
  },
  {
   "cell_type": "markdown",
   "id": "080deae7",
   "metadata": {
    "slideshow": {
     "slide_type": "subslide"
    }
   },
   "source": [
    "Analysis"
   ]
  },
  {
   "cell_type": "code",
   "execution_count": 19,
   "id": "1dd9f2bf",
   "metadata": {
    "slideshow": {
     "slide_type": "fragment"
    }
   },
   "outputs": [
    {
     "data": {
      "text/plain": [
       "(32, 10.666666666666666, 11.590225767142474)"
      ]
     },
     "execution_count": 19,
     "metadata": {},
     "output_type": "execute_result"
    }
   ],
   "source": [
    "s.sum(), s.mean(), s.std()"
   ]
  },
  {
   "cell_type": "code",
   "execution_count": 20,
   "id": "d0a285d8",
   "metadata": {
    "slideshow": {
     "slide_type": "fragment"
    }
   },
   "outputs": [
    {
     "data": {
      "text/plain": [
       "(3, 0, 'Underground')"
      ]
     },
     "execution_count": 20,
     "metadata": {},
     "output_type": "execute_result"
    }
   ],
   "source": [
    "s.min(), s.argmin(), s.idxmin()"
   ]
  },
  {
   "cell_type": "markdown",
   "id": "4d625d48",
   "metadata": {
    "slideshow": {
     "slide_type": "subslide"
    }
   },
   "source": [
    "Mathematical operations"
   ]
  },
  {
   "cell_type": "code",
   "execution_count": 21,
   "id": "d1bec37c",
   "metadata": {
    "slideshow": {
     "slide_type": "-"
    }
   },
   "outputs": [
    {
     "data": {
      "text/plain": [
       "Underground     2\n",
       "Athletic       23\n",
       "Castle          4\n",
       "Name: High Scores, dtype: int64"
      ]
     },
     "execution_count": 21,
     "metadata": {},
     "output_type": "execute_result"
    }
   ],
   "source": [
    "s2 = s - 1\n",
    "s2"
   ]
  },
  {
   "cell_type": "code",
   "execution_count": 22,
   "id": "8275f58e",
   "metadata": {
    "slideshow": {
     "slide_type": "subslide"
    }
   },
   "outputs": [
    {
     "data": {
      "text/plain": [
       "Underground    1.500000\n",
       "Athletic       1.043478\n",
       "Castle         1.250000\n",
       "Name: High Scores, dtype: float64"
      ]
     },
     "execution_count": 22,
     "metadata": {},
     "output_type": "execute_result"
    }
   ],
   "source": [
    "s3 = s / s2\n",
    "s3"
   ]
  },
  {
   "cell_type": "code",
   "execution_count": 24,
   "id": "e7ad17a3",
   "metadata": {
    "slideshow": {
     "slide_type": "fragment"
    }
   },
   "outputs": [
    {
     "data": {
      "text/plain": [
       "Athletic       NaN\n",
       "Castle         NaN\n",
       "Underground    1.0\n",
       "dtype: float64"
      ]
     },
     "execution_count": 24,
     "metadata": {},
     "output_type": "execute_result"
    }
   ],
   "source": [
    "# what if index does't match?\n",
    "\n",
    "s / pd.Series([3], index=[\"Underground\"])"
   ]
  },
  {
   "cell_type": "markdown",
   "id": "0652af3f",
   "metadata": {
    "slideshow": {
     "slide_type": "subslide"
    }
   },
   "source": [
    "Visualization"
   ]
  },
  {
   "cell_type": "code",
   "execution_count": 28,
   "id": "c3d957ba",
   "metadata": {
    "slideshow": {
     "slide_type": "-"
    }
   },
   "outputs": [
    {
     "data": {
      "image/png": "[encoded data removed]",
      "text/plain": [
       "<Figure size 864x576 with 1 Axes>"
      ]
     },
     "metadata": {
      "needs_background": "light"
     },
     "output_type": "display_data"
    }
   ],
   "source": [
    "s.plot(kind=\"bar\");\n",
    "# try bar plot"
   ]
  },
  {
   "cell_type": "markdown",
   "id": "8c2ab4dd",
   "metadata": {
    "slideshow": {
     "slide_type": "subslide"
    }
   },
   "source": [
    "DataFrame"
   ]
  },
  {
   "cell_type": "code",
   "execution_count": 29,
   "id": "5ef65ef5",
   "metadata": {
    "slideshow": {
     "slide_type": "fragment"
    }
   },
   "outputs": [
    {
     "data": {
      "text/html": [
       "<div>\n",
       "<style scoped>\n",
       "    .dataframe tbody tr th:only-of-type {\n",
       "        vertical-align: middle;\n",
       "    }\n",
       "\n",
       "    .dataframe tbody tr th {\n",
       "        vertical-align: top;\n",
       "    }\n",
       "\n",
       "    .dataframe thead th {\n",
       "        text-align: right;\n",
       "    }\n",
       "</style>\n",
       "<table border=\"1\" class=\"dataframe\">\n",
       "  <thead>\n",
       "    <tr style=\"text-align: right;\">\n",
       "      <th></th>\n",
       "      <th>Me</th>\n",
       "      <th>James</th>\n",
       "    </tr>\n",
       "  </thead>\n",
       "  <tbody>\n",
       "    <tr>\n",
       "      <th>Underground</th>\n",
       "      <td>3</td>\n",
       "      <td>3</td>\n",
       "    </tr>\n",
       "    <tr>\n",
       "      <th>Athletic</th>\n",
       "      <td>24</td>\n",
       "      <td>52</td>\n",
       "    </tr>\n",
       "    <tr>\n",
       "      <th>Castle</th>\n",
       "      <td>5</td>\n",
       "      <td>63</td>\n",
       "    </tr>\n",
       "  </tbody>\n",
       "</table>\n",
       "</div>"
      ],
      "text/plain": [
       "             Me  James\n",
       "Underground   3      3\n",
       "Athletic     24     52\n",
       "Castle        5     63"
      ]
     },
     "execution_count": 29,
     "metadata": {},
     "output_type": "execute_result"
    }
   ],
   "source": [
    "high_scores = {\n",
    "    \"Me\": my_high_scores,\n",
    "    \"James\": [3, 52, 63]\n",
    "}\n",
    "df = pd.DataFrame(high_scores, index=levels)\n",
    "df"
   ]
  },
  {
   "cell_type": "code",
   "execution_count": 30,
   "id": "dd01e310",
   "metadata": {
    "slideshow": {
     "slide_type": "fragment"
    }
   },
   "outputs": [],
   "source": [
    "pd.DataFrame?\n",
    "df?\n",
    "# numpy under the hood"
   ]
  },
  {
   "cell_type": "markdown",
   "id": "9af7df2d",
   "metadata": {
    "slideshow": {
     "slide_type": "subslide"
    }
   },
   "source": [
    "info, describe"
   ]
  },
  {
   "cell_type": "code",
   "execution_count": 36,
   "id": "3189582e",
   "metadata": {
    "slideshow": {
     "slide_type": "-"
    }
   },
   "outputs": [
    {
     "data": {
      "text/html": [
       "<div>\n",
       "<style scoped>\n",
       "    .dataframe tbody tr th:only-of-type {\n",
       "        vertical-align: middle;\n",
       "    }\n",
       "\n",
       "    .dataframe tbody tr th {\n",
       "        vertical-align: top;\n",
       "    }\n",
       "\n",
       "    .dataframe thead th {\n",
       "        text-align: right;\n",
       "    }\n",
       "</style>\n",
       "<table border=\"1\" class=\"dataframe\">\n",
       "  <thead>\n",
       "    <tr style=\"text-align: right;\">\n",
       "      <th></th>\n",
       "      <th>Me</th>\n",
       "      <th>James</th>\n",
       "    </tr>\n",
       "  </thead>\n",
       "  <tbody>\n",
       "    <tr>\n",
       "      <th>count</th>\n",
       "      <td>3.000000</td>\n",
       "      <td>3.000000</td>\n",
       "    </tr>\n",
       "    <tr>\n",
       "      <th>mean</th>\n",
       "      <td>10.666667</td>\n",
       "      <td>39.333333</td>\n",
       "    </tr>\n",
       "    <tr>\n",
       "      <th>std</th>\n",
       "      <td>11.590226</td>\n",
       "      <td>31.942657</td>\n",
       "    </tr>\n",
       "    <tr>\n",
       "      <th>min</th>\n",
       "      <td>3.000000</td>\n",
       "      <td>3.000000</td>\n",
       "    </tr>\n",
       "    <tr>\n",
       "      <th>25%</th>\n",
       "      <td>4.000000</td>\n",
       "      <td>27.500000</td>\n",
       "    </tr>\n",
       "    <tr>\n",
       "      <th>50%</th>\n",
       "      <td>5.000000</td>\n",
       "      <td>52.000000</td>\n",
       "    </tr>\n",
       "    <tr>\n",
       "      <th>75%</th>\n",
       "      <td>14.500000</td>\n",
       "      <td>57.500000</td>\n",
       "    </tr>\n",
       "    <tr>\n",
       "      <th>max</th>\n",
       "      <td>24.000000</td>\n",
       "      <td>63.000000</td>\n",
       "    </tr>\n",
       "  </tbody>\n",
       "</table>\n",
       "</div>"
      ],
      "text/plain": [
       "              Me      James\n",
       "count   3.000000   3.000000\n",
       "mean   10.666667  39.333333\n",
       "std    11.590226  31.942657\n",
       "min     3.000000   3.000000\n",
       "25%     4.000000  27.500000\n",
       "50%     5.000000  52.000000\n",
       "75%    14.500000  57.500000\n",
       "max    24.000000  63.000000"
      ]
     },
     "execution_count": 36,
     "metadata": {},
     "output_type": "execute_result"
    }
   ],
   "source": [
    "df.tail()"
   ]
  },
  {
   "cell_type": "code",
   "execution_count": 38,
   "id": "b58dbcce",
   "metadata": {
    "slideshow": {
     "slide_type": "subslide"
    }
   },
   "outputs": [
    {
     "data": {
      "text/plain": [
       "63"
      ]
     },
     "execution_count": 38,
     "metadata": {},
     "output_type": "execute_result"
    }
   ],
   "source": [
    "df.max()\n",
    "# returns a Series!"
   ]
  },
  {
   "cell_type": "code",
   "execution_count": 39,
   "id": "ea85df5b",
   "metadata": {
    "slideshow": {
     "slide_type": "fragment"
    }
   },
   "outputs": [
    {
     "data": {
      "text/html": [
       "<div>\n",
       "<style scoped>\n",
       "    .dataframe tbody tr th:only-of-type {\n",
       "        vertical-align: middle;\n",
       "    }\n",
       "\n",
       "    .dataframe tbody tr th {\n",
       "        vertical-align: top;\n",
       "    }\n",
       "\n",
       "    .dataframe thead th {\n",
       "        text-align: right;\n",
       "    }\n",
       "</style>\n",
       "<table border=\"1\" class=\"dataframe\">\n",
       "  <thead>\n",
       "    <tr style=\"text-align: right;\">\n",
       "      <th></th>\n",
       "      <th>Me</th>\n",
       "      <th>James</th>\n",
       "    </tr>\n",
       "  </thead>\n",
       "  <tbody>\n",
       "    <tr>\n",
       "      <th>Underground</th>\n",
       "      <td>3</td>\n",
       "      <td>3</td>\n",
       "    </tr>\n",
       "    <tr>\n",
       "      <th>Athletic</th>\n",
       "      <td>27</td>\n",
       "      <td>55</td>\n",
       "    </tr>\n",
       "    <tr>\n",
       "      <th>Castle</th>\n",
       "      <td>32</td>\n",
       "      <td>118</td>\n",
       "    </tr>\n",
       "  </tbody>\n",
       "</table>\n",
       "</div>"
      ],
      "text/plain": [
       "             Me  James\n",
       "Underground   3      3\n",
       "Athletic     27     55\n",
       "Castle       32    118"
      ]
     },
     "execution_count": 39,
     "metadata": {},
     "output_type": "execute_result"
    }
   ],
   "source": [
    "df.cumsum()"
   ]
  },
  {
   "cell_type": "code",
   "execution_count": 42,
   "id": "51addba2",
   "metadata": {
    "slideshow": {
     "slide_type": "subslide"
    }
   },
   "outputs": [
    {
     "data": {
      "image/png": "[encoded data removed]",
      "text/plain": [
       "<Figure size 864x576 with 1 Axes>"
      ]
     },
     "metadata": {
      "needs_background": "light"
     },
     "output_type": "display_data"
    }
   ],
   "source": [
    "# Are we plotting super mario coins?\n",
    "#df.plot(kind=\"bar\");\n",
    "df.cumsum().plot();\n",
    "# Try plotting cumsum!"
   ]
  },
  {
   "cell_type": "markdown",
   "id": "5bc2a154",
   "metadata": {
    "slideshow": {
     "slide_type": "slide"
    }
   },
   "source": [
    "## Copy high scores from [speedrun.com](https://www.speedrun.com/sm64#120_Star)"
   ]
  },
  {
   "cell_type": "code",
   "execution_count": 43,
   "id": "d90d7f57",
   "metadata": {
    "slideshow": {
     "slide_type": "fragment"
    }
   },
   "outputs": [
    {
     "data": {
      "text/html": [
       "<div>\n",
       "<style scoped>\n",
       "    .dataframe tbody tr th:only-of-type {\n",
       "        vertical-align: middle;\n",
       "    }\n",
       "\n",
       "    .dataframe tbody tr th {\n",
       "        vertical-align: top;\n",
       "    }\n",
       "\n",
       "    .dataframe thead th {\n",
       "        text-align: right;\n",
       "    }\n",
       "</style>\n",
       "<table border=\"1\" class=\"dataframe\">\n",
       "  <thead>\n",
       "    <tr style=\"text-align: right;\">\n",
       "      <th></th>\n",
       "      <th>Position</th>\n",
       "      <th>Player</th>\n",
       "      <th>Time</th>\n",
       "      <th>Platform</th>\n",
       "      <th>Verified</th>\n",
       "      <th>Date</th>\n",
       "      <th>Unnamed: 6</th>\n",
       "    </tr>\n",
       "  </thead>\n",
       "  <tbody>\n",
       "    <tr>\n",
       "      <th>0</th>\n",
       "      <td>1</td>\n",
       "      <td>Liam</td>\n",
       "      <td>1h 38m 13s</td>\n",
       "      <td>N64</td>\n",
       "      <td>Yes</td>\n",
       "      <td>2 weeks ago</td>\n",
       "      <td>https://www.speedrun.com/sm64/run/z1x9orwm</td>\n",
       "    </tr>\n",
       "    <tr>\n",
       "      <th>1</th>\n",
       "      <td>2</td>\n",
       "      <td>batora</td>\n",
       "      <td>1h 38m 21s</td>\n",
       "      <td>N64</td>\n",
       "      <td>Yes</td>\n",
       "      <td>6 months ago</td>\n",
       "      <td>https://www.speedrun.com/sm64/run/yo7v39jm</td>\n",
       "    </tr>\n",
       "    <tr>\n",
       "      <th>2</th>\n",
       "      <td>3</td>\n",
       "      <td>cheese</td>\n",
       "      <td>1h 38m 25s</td>\n",
       "      <td>N64</td>\n",
       "      <td>Yes</td>\n",
       "      <td>8 months ago</td>\n",
       "      <td>https://www.speedrun.com/sm64/run/m3ng526y</td>\n",
       "    </tr>\n",
       "    <tr>\n",
       "      <th>3</th>\n",
       "      <td>4</td>\n",
       "      <td>simply</td>\n",
       "      <td>1h 38m 28s</td>\n",
       "      <td>N64</td>\n",
       "      <td>Yes</td>\n",
       "      <td>1 year ago</td>\n",
       "      <td>https://www.speedrun.com/sm64/run/yjlxg97z</td>\n",
       "    </tr>\n",
       "    <tr>\n",
       "      <th>4</th>\n",
       "      <td>5</td>\n",
       "      <td>puncayshun</td>\n",
       "      <td>1h 38m 32s</td>\n",
       "      <td>N64</td>\n",
       "      <td>Yes</td>\n",
       "      <td>7 months ago</td>\n",
       "      <td>https://www.speedrun.com/sm64/run/m7836jwz</td>\n",
       "    </tr>\n",
       "  </tbody>\n",
       "</table>\n",
       "</div>"
      ],
      "text/plain": [
       "   Position      Player        Time Platform Verified          Date  \\\n",
       "0         1        Liam  1h 38m 13s     N64       Yes   2 weeks ago   \n",
       "1         2      batora  1h 38m 21s     N64       Yes  6 months ago   \n",
       "2         3      cheese  1h 38m 25s     N64       Yes  8 months ago   \n",
       "3         4      simply  1h 38m 28s     N64       Yes    1 year ago   \n",
       "4         5  puncayshun  1h 38m 32s     N64       Yes  7 months ago   \n",
       "\n",
       "                                   Unnamed: 6  \n",
       "0  https://www.speedrun.com/sm64/run/z1x9orwm  \n",
       "1  https://www.speedrun.com/sm64/run/yo7v39jm  \n",
       "2  https://www.speedrun.com/sm64/run/m3ng526y  \n",
       "3  https://www.speedrun.com/sm64/run/yjlxg97z  \n",
       "4  https://www.speedrun.com/sm64/run/m7836jwz  "
      ]
     },
     "execution_count": 43,
     "metadata": {},
     "output_type": "execute_result"
    }
   ],
   "source": [
    "df = pd.read_excel(\"~/Desktop/supermario64_120stars.xlsx\")\n",
    "df.head()"
   ]
  },
  {
   "cell_type": "code",
   "execution_count": 44,
   "id": "46faccdb",
   "metadata": {
    "slideshow": {
     "slide_type": "subslide"
    }
   },
   "outputs": [
    {
     "data": {
      "text/html": [
       "<div>\n",
       "<style scoped>\n",
       "    .dataframe tbody tr th:only-of-type {\n",
       "        vertical-align: middle;\n",
       "    }\n",
       "\n",
       "    .dataframe tbody tr th {\n",
       "        vertical-align: top;\n",
       "    }\n",
       "\n",
       "    .dataframe thead th {\n",
       "        text-align: right;\n",
       "    }\n",
       "</style>\n",
       "<table border=\"1\" class=\"dataframe\">\n",
       "  <thead>\n",
       "    <tr style=\"text-align: right;\">\n",
       "      <th></th>\n",
       "      <th>Player</th>\n",
       "      <th>Time</th>\n",
       "      <th>Platform</th>\n",
       "      <th>Verified</th>\n",
       "      <th>Date</th>\n",
       "    </tr>\n",
       "    <tr>\n",
       "      <th>Position</th>\n",
       "      <th></th>\n",
       "      <th></th>\n",
       "      <th></th>\n",
       "      <th></th>\n",
       "      <th></th>\n",
       "    </tr>\n",
       "  </thead>\n",
       "  <tbody>\n",
       "    <tr>\n",
       "      <th>1</th>\n",
       "      <td>Liam</td>\n",
       "      <td>1h 38m 13s</td>\n",
       "      <td>N64</td>\n",
       "      <td>Yes</td>\n",
       "      <td>2 weeks ago</td>\n",
       "    </tr>\n",
       "    <tr>\n",
       "      <th>2</th>\n",
       "      <td>batora</td>\n",
       "      <td>1h 38m 21s</td>\n",
       "      <td>N64</td>\n",
       "      <td>Yes</td>\n",
       "      <td>6 months ago</td>\n",
       "    </tr>\n",
       "    <tr>\n",
       "      <th>3</th>\n",
       "      <td>cheese</td>\n",
       "      <td>1h 38m 25s</td>\n",
       "      <td>N64</td>\n",
       "      <td>Yes</td>\n",
       "      <td>8 months ago</td>\n",
       "    </tr>\n",
       "    <tr>\n",
       "      <th>4</th>\n",
       "      <td>simply</td>\n",
       "      <td>1h 38m 28s</td>\n",
       "      <td>N64</td>\n",
       "      <td>Yes</td>\n",
       "      <td>1 year ago</td>\n",
       "    </tr>\n",
       "    <tr>\n",
       "      <th>5</th>\n",
       "      <td>puncayshun</td>\n",
       "      <td>1h 38m 32s</td>\n",
       "      <td>N64</td>\n",
       "      <td>Yes</td>\n",
       "      <td>7 months ago</td>\n",
       "    </tr>\n",
       "  </tbody>\n",
       "</table>\n",
       "</div>"
      ],
      "text/plain": [
       "              Player        Time Platform Verified          Date\n",
       "Position                                                        \n",
       "1               Liam  1h 38m 13s     N64       Yes   2 weeks ago\n",
       "2             batora  1h 38m 21s     N64       Yes  6 months ago\n",
       "3             cheese  1h 38m 25s     N64       Yes  8 months ago\n",
       "4             simply  1h 38m 28s     N64       Yes    1 year ago\n",
       "5         puncayshun  1h 38m 32s     N64       Yes  7 months ago"
      ]
     },
     "execution_count": 44,
     "metadata": {},
     "output_type": "execute_result"
    }
   ],
   "source": [
    "df = pd.read_excel(\"~/Desktop/supermario64_120stars.xlsx\", usecols=\"A:F\", index_col=0)\n",
    "df.head()"
   ]
  },
  {
   "cell_type": "markdown",
   "id": "09558539",
   "metadata": {
    "slideshow": {
     "slide_type": "subslide"
    }
   },
   "source": [
    "Getting familiar with our df:"
   ]
  },
  {
   "cell_type": "code",
   "execution_count": 45,
   "id": "4dc59137",
   "metadata": {
    "slideshow": {
     "slide_type": "-"
    }
   },
   "outputs": [
    {
     "data": {
      "text/plain": [
       "(418, 5)"
      ]
     },
     "execution_count": 45,
     "metadata": {},
     "output_type": "execute_result"
    }
   ],
   "source": [
    "# df.tail()\n",
    "# df.shape\n",
    "# df.info()\n",
    "# df.describe()\n",
    "df.shape"
   ]
  },
  {
   "cell_type": "markdown",
   "id": "ee0aaeba",
   "metadata": {
    "slideshow": {
     "slide_type": "subslide"
    }
   },
   "source": [
    "### Boolean indexing"
   ]
  },
  {
   "cell_type": "code",
   "execution_count": 48,
   "id": "6cfe0e17",
   "metadata": {
    "slideshow": {
     "slide_type": "-"
    }
   },
   "outputs": [
    {
     "data": {
      "text/html": [
       "<div>\n",
       "<style scoped>\n",
       "    .dataframe tbody tr th:only-of-type {\n",
       "        vertical-align: middle;\n",
       "    }\n",
       "\n",
       "    .dataframe tbody tr th {\n",
       "        vertical-align: top;\n",
       "    }\n",
       "\n",
       "    .dataframe thead th {\n",
       "        text-align: right;\n",
       "    }\n",
       "</style>\n",
       "<table border=\"1\" class=\"dataframe\">\n",
       "  <thead>\n",
       "    <tr style=\"text-align: right;\">\n",
       "      <th></th>\n",
       "      <th>Verified</th>\n",
       "    </tr>\n",
       "    <tr>\n",
       "      <th>Position</th>\n",
       "      <th></th>\n",
       "    </tr>\n",
       "  </thead>\n",
       "  <tbody>\n",
       "    <tr>\n",
       "      <th>1</th>\n",
       "      <td>Yes</td>\n",
       "    </tr>\n",
       "    <tr>\n",
       "      <th>2</th>\n",
       "      <td>Yes</td>\n",
       "    </tr>\n",
       "    <tr>\n",
       "      <th>3</th>\n",
       "      <td>Yes</td>\n",
       "    </tr>\n",
       "    <tr>\n",
       "      <th>4</th>\n",
       "      <td>Yes</td>\n",
       "    </tr>\n",
       "    <tr>\n",
       "      <th>5</th>\n",
       "      <td>Yes</td>\n",
       "    </tr>\n",
       "    <tr>\n",
       "      <th>...</th>\n",
       "      <td>...</td>\n",
       "    </tr>\n",
       "    <tr>\n",
       "      <th>414</th>\n",
       "      <td>Yes</td>\n",
       "    </tr>\n",
       "    <tr>\n",
       "      <th>415</th>\n",
       "      <td>Yes</td>\n",
       "    </tr>\n",
       "    <tr>\n",
       "      <th>416</th>\n",
       "      <td>Yes</td>\n",
       "    </tr>\n",
       "    <tr>\n",
       "      <th>417</th>\n",
       "      <td>Yes</td>\n",
       "    </tr>\n",
       "    <tr>\n",
       "      <th>418</th>\n",
       "      <td>Yes</td>\n",
       "    </tr>\n",
       "  </tbody>\n",
       "</table>\n",
       "<p>418 rows × 1 columns</p>\n",
       "</div>"
      ],
      "text/plain": [
       "         Verified\n",
       "Position         \n",
       "1             Yes\n",
       "2             Yes\n",
       "3             Yes\n",
       "4             Yes\n",
       "5             Yes\n",
       "...           ...\n",
       "414           Yes\n",
       "415           Yes\n",
       "416           Yes\n",
       "417           Yes\n",
       "418           Yes\n",
       "\n",
       "[418 rows x 1 columns]"
      ]
     },
     "execution_count": 48,
     "metadata": {},
     "output_type": "execute_result"
    }
   ],
   "source": [
    "#df.Verified\n",
    "df[[\"Verified\"]]"
   ]
  },
  {
   "cell_type": "code",
   "execution_count": 50,
   "id": "295f4d65",
   "metadata": {
    "collapsed": true,
    "slideshow": {
     "slide_type": "subslide"
    }
   },
   "outputs": [
    {
     "data": {
      "text/html": [
       "<div>\n",
       "<style scoped>\n",
       "    .dataframe tbody tr th:only-of-type {\n",
       "        vertical-align: middle;\n",
       "    }\n",
       "\n",
       "    .dataframe tbody tr th {\n",
       "        vertical-align: top;\n",
       "    }\n",
       "\n",
       "    .dataframe thead th {\n",
       "        text-align: right;\n",
       "    }\n",
       "</style>\n",
       "<table border=\"1\" class=\"dataframe\">\n",
       "  <thead>\n",
       "    <tr style=\"text-align: right;\">\n",
       "      <th></th>\n",
       "      <th>Player</th>\n",
       "      <th>Time</th>\n",
       "      <th>Platform</th>\n",
       "      <th>Verified</th>\n",
       "      <th>Date</th>\n",
       "    </tr>\n",
       "    <tr>\n",
       "      <th>Position</th>\n",
       "      <th></th>\n",
       "      <th></th>\n",
       "      <th></th>\n",
       "      <th></th>\n",
       "      <th></th>\n",
       "    </tr>\n",
       "  </thead>\n",
       "  <tbody>\n",
       "    <tr>\n",
       "      <th>66</th>\n",
       "      <td>luke994</td>\n",
       "      <td>1h 44m 56s</td>\n",
       "      <td>N64</td>\n",
       "      <td>No</td>\n",
       "      <td>6 years ago</td>\n",
       "    </tr>\n",
       "    <tr>\n",
       "      <th>79</th>\n",
       "      <td>Hampern</td>\n",
       "      <td>1h 45m 52s</td>\n",
       "      <td>N64</td>\n",
       "      <td>No</td>\n",
       "      <td>7 years ago</td>\n",
       "    </tr>\n",
       "    <tr>\n",
       "      <th>100</th>\n",
       "      <td>Hirabomb</td>\n",
       "      <td>1h 47m 16s</td>\n",
       "      <td>N64</td>\n",
       "      <td>No</td>\n",
       "      <td>6 years ago</td>\n",
       "    </tr>\n",
       "    <tr>\n",
       "      <th>121</th>\n",
       "      <td>Balls Out</td>\n",
       "      <td>1h 48m 58s</td>\n",
       "      <td>N64</td>\n",
       "      <td>No</td>\n",
       "      <td>7 years ago</td>\n",
       "    </tr>\n",
       "    <tr>\n",
       "      <th>124</th>\n",
       "      <td>sicko</td>\n",
       "      <td>1h 49m 27s</td>\n",
       "      <td>N64</td>\n",
       "      <td>No</td>\n",
       "      <td>7 years ago</td>\n",
       "    </tr>\n",
       "    <tr>\n",
       "      <th>126</th>\n",
       "      <td>Washeyy</td>\n",
       "      <td>1h 49m 33s</td>\n",
       "      <td>N64</td>\n",
       "      <td>No</td>\n",
       "      <td>6 years ago</td>\n",
       "    </tr>\n",
       "    <tr>\n",
       "      <th>144</th>\n",
       "      <td>Sasurainopū</td>\n",
       "      <td>1h 49m 58s</td>\n",
       "      <td>N64</td>\n",
       "      <td>No</td>\n",
       "      <td>NaN</td>\n",
       "    </tr>\n",
       "    <tr>\n",
       "      <th>164</th>\n",
       "      <td>Seanzy</td>\n",
       "      <td>1h 52m 12s</td>\n",
       "      <td>N64</td>\n",
       "      <td>No</td>\n",
       "      <td>7 years ago</td>\n",
       "    </tr>\n",
       "    <tr>\n",
       "      <th>168</th>\n",
       "      <td>Shigeru</td>\n",
       "      <td>1h 52m 40s</td>\n",
       "      <td>N64</td>\n",
       "      <td>No</td>\n",
       "      <td>10 years ago</td>\n",
       "    </tr>\n",
       "    <tr>\n",
       "      <th>185</th>\n",
       "      <td>Seseragi</td>\n",
       "      <td>1h 54m 19s</td>\n",
       "      <td>N64</td>\n",
       "      <td>No</td>\n",
       "      <td>NaN</td>\n",
       "    </tr>\n",
       "    <tr>\n",
       "      <th>189</th>\n",
       "      <td>Area</td>\n",
       "      <td>1h 54m 35s</td>\n",
       "      <td>N64</td>\n",
       "      <td>No</td>\n",
       "      <td>6 years ago</td>\n",
       "    </tr>\n",
       "    <tr>\n",
       "      <th>191</th>\n",
       "      <td>Hako</td>\n",
       "      <td>1h 55m 00s</td>\n",
       "      <td>N64</td>\n",
       "      <td>No</td>\n",
       "      <td>4 years ago</td>\n",
       "    </tr>\n",
       "    <tr>\n",
       "      <th>196</th>\n",
       "      <td>moodehh</td>\n",
       "      <td>1h 55m 34s</td>\n",
       "      <td>N64</td>\n",
       "      <td>No</td>\n",
       "      <td>6 years ago</td>\n",
       "    </tr>\n",
       "    <tr>\n",
       "      <th>198</th>\n",
       "      <td>TheDarkmanWs</td>\n",
       "      <td>1h 55m 38s</td>\n",
       "      <td>N64</td>\n",
       "      <td>No</td>\n",
       "      <td>7 years ago</td>\n",
       "    </tr>\n",
       "    <tr>\n",
       "      <th>199</th>\n",
       "      <td>Xiah</td>\n",
       "      <td>1h 55m 46s</td>\n",
       "      <td>N64</td>\n",
       "      <td>No</td>\n",
       "      <td>8 years ago</td>\n",
       "    </tr>\n",
       "    <tr>\n",
       "      <th>209</th>\n",
       "      <td>Hatopoppo</td>\n",
       "      <td>1h 57m 27s</td>\n",
       "      <td>N64</td>\n",
       "      <td>No</td>\n",
       "      <td>8 years ago</td>\n",
       "    </tr>\n",
       "    <tr>\n",
       "      <th>218</th>\n",
       "      <td>NyZ</td>\n",
       "      <td>1h 58m 19s</td>\n",
       "      <td>N64</td>\n",
       "      <td>No</td>\n",
       "      <td>8 years ago</td>\n",
       "    </tr>\n",
       "    <tr>\n",
       "      <th>223</th>\n",
       "      <td>Mese</td>\n",
       "      <td>1h 58m 56s</td>\n",
       "      <td>N64</td>\n",
       "      <td>No</td>\n",
       "      <td>7 years ago</td>\n",
       "    </tr>\n",
       "    <tr>\n",
       "      <th>238</th>\n",
       "      <td>ZEOKU</td>\n",
       "      <td>1h 59m 59s</td>\n",
       "      <td>N64</td>\n",
       "      <td>No</td>\n",
       "      <td>8 years ago</td>\n",
       "    </tr>\n",
       "    <tr>\n",
       "      <th>238</th>\n",
       "      <td>All</td>\n",
       "      <td>1h 59m 59s</td>\n",
       "      <td>N64</td>\n",
       "      <td>No</td>\n",
       "      <td>NaN</td>\n",
       "    </tr>\n",
       "    <tr>\n",
       "      <th>240</th>\n",
       "      <td>Kazushi-Bomber</td>\n",
       "      <td>2h 00m 59s</td>\n",
       "      <td>N64</td>\n",
       "      <td>No</td>\n",
       "      <td>NaN</td>\n",
       "    </tr>\n",
       "    <tr>\n",
       "      <th>262</th>\n",
       "      <td>Shō</td>\n",
       "      <td>2h 07m 40s</td>\n",
       "      <td>N64</td>\n",
       "      <td>No</td>\n",
       "      <td>11 years ago</td>\n",
       "    </tr>\n",
       "    <tr>\n",
       "      <th>265</th>\n",
       "      <td>Kiyo</td>\n",
       "      <td>2h 08m 08s</td>\n",
       "      <td>N64</td>\n",
       "      <td>No</td>\n",
       "      <td>10 years ago</td>\n",
       "    </tr>\n",
       "    <tr>\n",
       "      <th>292</th>\n",
       "      <td>Moewe</td>\n",
       "      <td>2h 16m 34s</td>\n",
       "      <td>N64</td>\n",
       "      <td>No</td>\n",
       "      <td>NaN</td>\n",
       "    </tr>\n",
       "    <tr>\n",
       "      <th>293</th>\n",
       "      <td>taka12352</td>\n",
       "      <td>2h 17m 12s</td>\n",
       "      <td>N64</td>\n",
       "      <td>No</td>\n",
       "      <td>NaN</td>\n",
       "    </tr>\n",
       "    <tr>\n",
       "      <th>299</th>\n",
       "      <td>okamoto</td>\n",
       "      <td>2h 19m 06s</td>\n",
       "      <td>N64</td>\n",
       "      <td>No</td>\n",
       "      <td>NaN</td>\n",
       "    </tr>\n",
       "    <tr>\n",
       "      <th>315</th>\n",
       "      <td>Nora-Megane</td>\n",
       "      <td>2h 24m 22s</td>\n",
       "      <td>N64</td>\n",
       "      <td>No</td>\n",
       "      <td>4 years ago</td>\n",
       "    </tr>\n",
       "    <tr>\n",
       "      <th>317</th>\n",
       "      <td>Maru</td>\n",
       "      <td>2h 25m 46s</td>\n",
       "      <td>N64</td>\n",
       "      <td>No</td>\n",
       "      <td>NaN</td>\n",
       "    </tr>\n",
       "    <tr>\n",
       "      <th>318</th>\n",
       "      <td>kirsche.</td>\n",
       "      <td>2h 26m 56s</td>\n",
       "      <td>N64</td>\n",
       "      <td>No</td>\n",
       "      <td>NaN</td>\n",
       "    </tr>\n",
       "    <tr>\n",
       "      <th>325</th>\n",
       "      <td>mdsnoopy</td>\n",
       "      <td>2h 29m 57s</td>\n",
       "      <td>N64</td>\n",
       "      <td>No</td>\n",
       "      <td>1 month ago</td>\n",
       "    </tr>\n",
       "    <tr>\n",
       "      <th>326</th>\n",
       "      <td>TsukishimaMaria</td>\n",
       "      <td>2h 30m 03s</td>\n",
       "      <td>N64</td>\n",
       "      <td>No</td>\n",
       "      <td>NaN</td>\n",
       "    </tr>\n",
       "    <tr>\n",
       "      <th>336</th>\n",
       "      <td>iMartz3</td>\n",
       "      <td>2h 38m 09s</td>\n",
       "      <td>N64</td>\n",
       "      <td>No</td>\n",
       "      <td>3 years ago</td>\n",
       "    </tr>\n",
       "    <tr>\n",
       "      <th>337</th>\n",
       "      <td>Suisui</td>\n",
       "      <td>2h 38m 54s</td>\n",
       "      <td>N64</td>\n",
       "      <td>No</td>\n",
       "      <td>NaN</td>\n",
       "    </tr>\n",
       "    <tr>\n",
       "      <th>338</th>\n",
       "      <td>Jane</td>\n",
       "      <td>2h 39m 01s</td>\n",
       "      <td>N64</td>\n",
       "      <td>No</td>\n",
       "      <td>6 years ago</td>\n",
       "    </tr>\n",
       "    <tr>\n",
       "      <th>340</th>\n",
       "      <td>Tachycard1ac</td>\n",
       "      <td>2h 39m 57s</td>\n",
       "      <td>N64</td>\n",
       "      <td>No</td>\n",
       "      <td>2 months ago</td>\n",
       "    </tr>\n",
       "    <tr>\n",
       "      <th>356</th>\n",
       "      <td>Uchou</td>\n",
       "      <td>2h 52m 02s</td>\n",
       "      <td>N64</td>\n",
       "      <td>No</td>\n",
       "      <td>NaN</td>\n",
       "    </tr>\n",
       "    <tr>\n",
       "      <th>359</th>\n",
       "      <td>Flag</td>\n",
       "      <td>2h 55m 03s</td>\n",
       "      <td>N64</td>\n",
       "      <td>No</td>\n",
       "      <td>NaN</td>\n",
       "    </tr>\n",
       "    <tr>\n",
       "      <th>370</th>\n",
       "      <td>Korupo</td>\n",
       "      <td>3h 05m 06s</td>\n",
       "      <td>N64</td>\n",
       "      <td>No</td>\n",
       "      <td>NaN</td>\n",
       "    </tr>\n",
       "    <tr>\n",
       "      <th>381</th>\n",
       "      <td>Jumpyluff</td>\n",
       "      <td>3h 24m 26s</td>\n",
       "      <td>N64</td>\n",
       "      <td>No</td>\n",
       "      <td>NaN</td>\n",
       "    </tr>\n",
       "    <tr>\n",
       "      <th>387</th>\n",
       "      <td>bakedpotato12</td>\n",
       "      <td>3h 42m 33s</td>\n",
       "      <td>N64</td>\n",
       "      <td>No</td>\n",
       "      <td>8 years ago</td>\n",
       "    </tr>\n",
       "    <tr>\n",
       "      <th>411</th>\n",
       "      <td>Nickfin</td>\n",
       "      <td>4h 56m 09s</td>\n",
       "      <td>N64</td>\n",
       "      <td>No</td>\n",
       "      <td>NaN</td>\n",
       "    </tr>\n",
       "  </tbody>\n",
       "</table>\n",
       "</div>"
      ],
      "text/plain": [
       "                   Player        Time Platform Verified          Date\n",
       "Position                                                             \n",
       "66                luke994  1h 44m 56s     N64        No   6 years ago\n",
       "79                Hampern  1h 45m 52s     N64        No   7 years ago\n",
       "100              Hirabomb  1h 47m 16s     N64        No   6 years ago\n",
       "121             Balls Out  1h 48m 58s     N64        No   7 years ago\n",
       "124                 sicko  1h 49m 27s     N64        No   7 years ago\n",
       "126               Washeyy  1h 49m 33s     N64        No   6 years ago\n",
       "144           Sasurainopū  1h 49m 58s     N64        No           NaN\n",
       "164                Seanzy  1h 52m 12s     N64        No   7 years ago\n",
       "168               Shigeru  1h 52m 40s     N64        No  10 years ago\n",
       "185              Seseragi  1h 54m 19s     N64        No           NaN\n",
       "189                  Area  1h 54m 35s     N64        No   6 years ago\n",
       "191                  Hako  1h 55m 00s     N64        No   4 years ago\n",
       "196               moodehh  1h 55m 34s     N64        No   6 years ago\n",
       "198          TheDarkmanWs  1h 55m 38s     N64        No   7 years ago\n",
       "199                  Xiah  1h 55m 46s     N64        No   8 years ago\n",
       "209             Hatopoppo  1h 57m 27s     N64        No   8 years ago\n",
       "218                   NyZ  1h 58m 19s     N64        No   8 years ago\n",
       "223                  Mese  1h 58m 56s     N64        No   7 years ago\n",
       "238                 ZEOKU  1h 59m 59s     N64        No   8 years ago\n",
       "238                   All  1h 59m 59s     N64        No           NaN\n",
       "240        Kazushi-Bomber  2h 00m 59s     N64        No           NaN\n",
       "262                   Shō  2h 07m 40s     N64        No  11 years ago\n",
       "265                  Kiyo  2h 08m 08s     N64        No  10 years ago\n",
       "292                 Moewe  2h 16m 34s     N64        No           NaN\n",
       "293             taka12352  2h 17m 12s     N64        No           NaN\n",
       "299               okamoto  2h 19m 06s     N64        No           NaN\n",
       "315           Nora-Megane  2h 24m 22s     N64        No   4 years ago\n",
       "317                  Maru  2h 25m 46s     N64        No           NaN\n",
       "318              kirsche.  2h 26m 56s     N64        No           NaN\n",
       "325              mdsnoopy  2h 29m 57s     N64        No   1 month ago\n",
       "326       TsukishimaMaria  2h 30m 03s     N64        No           NaN\n",
       "336               iMartz3  2h 38m 09s     N64        No   3 years ago\n",
       "337                Suisui  2h 38m 54s     N64        No           NaN\n",
       "338                  Jane  2h 39m 01s     N64        No   6 years ago\n",
       "340          Tachycard1ac  2h 39m 57s     N64        No  2 months ago\n",
       "356                 Uchou  2h 52m 02s     N64        No           NaN\n",
       "359                  Flag  2h 55m 03s     N64        No           NaN\n",
       "370                Korupo  3h 05m 06s     N64        No           NaN\n",
       "381             Jumpyluff  3h 24m 26s     N64        No           NaN\n",
       "387         bakedpotato12  3h 42m 33s     N64        No   8 years ago\n",
       "411               Nickfin  4h 56m 09s     N64        No           NaN"
      ]
     },
     "execution_count": 50,
     "metadata": {},
     "output_type": "execute_result"
    }
   ],
   "source": [
    "df.Verified != \"Yes\"\n",
    "df[df.Verified != \"Yes\"]"
   ]
  },
  {
   "cell_type": "markdown",
   "id": "dd3ca0c9",
   "metadata": {
    "slideshow": {
     "slide_type": "subslide"
    }
   },
   "source": [
    "## [pd.DataFrame.apply](https://pandas.pydata.org/docs/reference/api/pandas.DataFrame.apply.html)\n",
    "\n",
    "`func = lambda col: col*2`\n",
    "\n",
    "`df.apply(func, axis=1)`\n"
   ]
  },
  {
   "cell_type": "code",
   "execution_count": 51,
   "id": "18e4772b",
   "metadata": {
    "slideshow": {
     "slide_type": "subslide"
    }
   },
   "outputs": [
    {
     "data": {
      "text/plain": [
       "Position\n",
       "1     2 weeks ago\n",
       "2    6 months ago\n",
       "3    8 months ago\n",
       "4      1 year ago\n",
       "5    7 months ago\n",
       "Name: Date, dtype: object"
      ]
     },
     "execution_count": 51,
     "metadata": {},
     "output_type": "execute_result"
    }
   ],
   "source": [
    "# look at the Date column\n",
    "df[\"Date\"].head()"
   ]
  },
  {
   "cell_type": "code",
   "execution_count": 53,
   "id": "a5ca2ec1",
   "metadata": {
    "slideshow": {
     "slide_type": "subslide"
    }
   },
   "outputs": [],
   "source": [
    "# https://stackoverflow.com/questions/28268818/how-to-find-the-date-n-days-ago-in-python\n",
    "\n",
    "import datetime\n",
    "from dateutil.relativedelta import relativedelta\n",
    "\n",
    "def get_past_date(str_days_ago):\n",
    "    TODAY = datetime.date.today()\n",
    "    splitted = str_days_ago.split()\n",
    "    if len(splitted) == 1 and splitted[0].lower() == 'today':\n",
    "        return str(TODAY.isoformat())\n",
    "    elif len(splitted) == 1 and splitted[0].lower() == 'yesterday':\n",
    "        date = TODAY - relativedelta(days=1)\n",
    "        return str(date.isoformat())\n",
    "    elif splitted[1].lower() in ['hour', 'hours', 'hr', 'hrs', 'h']:\n",
    "        date = datetime.datetime.now() - relativedelta(hours=int(splitted[0]))\n",
    "        return str(date.date().isoformat())\n",
    "    elif splitted[1].lower() in ['day', 'days', 'd']:\n",
    "        date = TODAY - relativedelta(days=int(splitted[0]))\n",
    "        return str(date.isoformat())\n",
    "    elif splitted[1].lower() in ['wk', 'wks', 'week', 'weeks', 'w']:\n",
    "        date = TODAY - relativedelta(weeks=int(splitted[0]))\n",
    "        return str(date.isoformat())\n",
    "    elif splitted[1].lower() in ['mon', 'mons', 'month', 'months', 'm']:\n",
    "        date = TODAY - relativedelta(months=int(splitted[0]))\n",
    "        return str(date.isoformat())\n",
    "    elif splitted[1].lower() in ['yrs', 'yr', 'years', 'year', 'y']:\n",
    "        date = TODAY - relativedelta(years=int(splitted[0]))\n",
    "        return str(date.isoformat())\n",
    "    else:\n",
    "        return \"Wrong Argument format\"\n"
   ]
  },
  {
   "cell_type": "code",
   "execution_count": 55,
   "id": "4439df3b",
   "metadata": {
    "slideshow": {
     "slide_type": "subslide"
    }
   },
   "outputs": [
    {
     "data": {
      "text/plain": [
       "Player      object\n",
       "Time        object\n",
       "Platform    object\n",
       "Verified    object\n",
       "Date        object\n",
       "dtype: object"
      ]
     },
     "execution_count": 55,
     "metadata": {},
     "output_type": "execute_result"
    }
   ],
   "source": [
    "# apply get_past_date to date\n",
    "#dates = df.Date.apply(get_past_date)\n",
    "df.dtypes"
   ]
  },
  {
   "cell_type": "markdown",
   "id": "60e5c3c7",
   "metadata": {
    "slideshow": {
     "slide_type": "subslide"
    }
   },
   "source": [
    "- pd.DataFrame.isna()\n",
    "- pd.DataFrame.dropna()"
   ]
  },
  {
   "cell_type": "code",
   "execution_count": 58,
   "id": "a71fc205",
   "metadata": {
    "slideshow": {
     "slide_type": "fragment"
    }
   },
   "outputs": [
    {
     "data": {
      "text/html": [
       "<div>\n",
       "<style scoped>\n",
       "    .dataframe tbody tr th:only-of-type {\n",
       "        vertical-align: middle;\n",
       "    }\n",
       "\n",
       "    .dataframe tbody tr th {\n",
       "        vertical-align: top;\n",
       "    }\n",
       "\n",
       "    .dataframe thead th {\n",
       "        text-align: right;\n",
       "    }\n",
       "</style>\n",
       "<table border=\"1\" class=\"dataframe\">\n",
       "  <thead>\n",
       "    <tr style=\"text-align: right;\">\n",
       "      <th></th>\n",
       "      <th>Player</th>\n",
       "      <th>Time</th>\n",
       "      <th>Platform</th>\n",
       "      <th>Verified</th>\n",
       "      <th>Date</th>\n",
       "    </tr>\n",
       "    <tr>\n",
       "      <th>Position</th>\n",
       "      <th></th>\n",
       "      <th></th>\n",
       "      <th></th>\n",
       "      <th></th>\n",
       "      <th></th>\n",
       "    </tr>\n",
       "  </thead>\n",
       "  <tbody>\n",
       "    <tr>\n",
       "      <th>144</th>\n",
       "      <td>Sasurainopū</td>\n",
       "      <td>1h 49m 58s</td>\n",
       "      <td>N64</td>\n",
       "      <td>No</td>\n",
       "      <td>NaN</td>\n",
       "    </tr>\n",
       "    <tr>\n",
       "      <th>185</th>\n",
       "      <td>Seseragi</td>\n",
       "      <td>1h 54m 19s</td>\n",
       "      <td>N64</td>\n",
       "      <td>No</td>\n",
       "      <td>NaN</td>\n",
       "    </tr>\n",
       "    <tr>\n",
       "      <th>238</th>\n",
       "      <td>All</td>\n",
       "      <td>1h 59m 59s</td>\n",
       "      <td>N64</td>\n",
       "      <td>No</td>\n",
       "      <td>NaN</td>\n",
       "    </tr>\n",
       "    <tr>\n",
       "      <th>240</th>\n",
       "      <td>Kazushi-Bomber</td>\n",
       "      <td>2h 00m 59s</td>\n",
       "      <td>N64</td>\n",
       "      <td>No</td>\n",
       "      <td>NaN</td>\n",
       "    </tr>\n",
       "    <tr>\n",
       "      <th>292</th>\n",
       "      <td>Moewe</td>\n",
       "      <td>2h 16m 34s</td>\n",
       "      <td>N64</td>\n",
       "      <td>No</td>\n",
       "      <td>NaN</td>\n",
       "    </tr>\n",
       "    <tr>\n",
       "      <th>293</th>\n",
       "      <td>taka12352</td>\n",
       "      <td>2h 17m 12s</td>\n",
       "      <td>N64</td>\n",
       "      <td>No</td>\n",
       "      <td>NaN</td>\n",
       "    </tr>\n",
       "    <tr>\n",
       "      <th>299</th>\n",
       "      <td>okamoto</td>\n",
       "      <td>2h 19m 06s</td>\n",
       "      <td>N64</td>\n",
       "      <td>No</td>\n",
       "      <td>NaN</td>\n",
       "    </tr>\n",
       "    <tr>\n",
       "      <th>317</th>\n",
       "      <td>Maru</td>\n",
       "      <td>2h 25m 46s</td>\n",
       "      <td>N64</td>\n",
       "      <td>No</td>\n",
       "      <td>NaN</td>\n",
       "    </tr>\n",
       "    <tr>\n",
       "      <th>318</th>\n",
       "      <td>kirsche.</td>\n",
       "      <td>2h 26m 56s</td>\n",
       "      <td>N64</td>\n",
       "      <td>No</td>\n",
       "      <td>NaN</td>\n",
       "    </tr>\n",
       "    <tr>\n",
       "      <th>326</th>\n",
       "      <td>TsukishimaMaria</td>\n",
       "      <td>2h 30m 03s</td>\n",
       "      <td>N64</td>\n",
       "      <td>No</td>\n",
       "      <td>NaN</td>\n",
       "    </tr>\n",
       "    <tr>\n",
       "      <th>337</th>\n",
       "      <td>Suisui</td>\n",
       "      <td>2h 38m 54s</td>\n",
       "      <td>N64</td>\n",
       "      <td>No</td>\n",
       "      <td>NaN</td>\n",
       "    </tr>\n",
       "    <tr>\n",
       "      <th>356</th>\n",
       "      <td>Uchou</td>\n",
       "      <td>2h 52m 02s</td>\n",
       "      <td>N64</td>\n",
       "      <td>No</td>\n",
       "      <td>NaN</td>\n",
       "    </tr>\n",
       "    <tr>\n",
       "      <th>359</th>\n",
       "      <td>Flag</td>\n",
       "      <td>2h 55m 03s</td>\n",
       "      <td>N64</td>\n",
       "      <td>No</td>\n",
       "      <td>NaN</td>\n",
       "    </tr>\n",
       "    <tr>\n",
       "      <th>370</th>\n",
       "      <td>Korupo</td>\n",
       "      <td>3h 05m 06s</td>\n",
       "      <td>N64</td>\n",
       "      <td>No</td>\n",
       "      <td>NaN</td>\n",
       "    </tr>\n",
       "    <tr>\n",
       "      <th>381</th>\n",
       "      <td>Jumpyluff</td>\n",
       "      <td>3h 24m 26s</td>\n",
       "      <td>N64</td>\n",
       "      <td>No</td>\n",
       "      <td>NaN</td>\n",
       "    </tr>\n",
       "    <tr>\n",
       "      <th>411</th>\n",
       "      <td>Nickfin</td>\n",
       "      <td>4h 56m 09s</td>\n",
       "      <td>N64</td>\n",
       "      <td>No</td>\n",
       "      <td>NaN</td>\n",
       "    </tr>\n",
       "  </tbody>\n",
       "</table>\n",
       "</div>"
      ],
      "text/plain": [
       "                   Player        Time Platform Verified Date\n",
       "Position                                                    \n",
       "144           Sasurainopū  1h 49m 58s     N64        No  NaN\n",
       "185              Seseragi  1h 54m 19s     N64        No  NaN\n",
       "238                   All  1h 59m 59s     N64        No  NaN\n",
       "240        Kazushi-Bomber  2h 00m 59s     N64        No  NaN\n",
       "292                 Moewe  2h 16m 34s     N64        No  NaN\n",
       "293             taka12352  2h 17m 12s     N64        No  NaN\n",
       "299               okamoto  2h 19m 06s     N64        No  NaN\n",
       "317                  Maru  2h 25m 46s     N64        No  NaN\n",
       "318              kirsche.  2h 26m 56s     N64        No  NaN\n",
       "326       TsukishimaMaria  2h 30m 03s     N64        No  NaN\n",
       "337                Suisui  2h 38m 54s     N64        No  NaN\n",
       "356                 Uchou  2h 52m 02s     N64        No  NaN\n",
       "359                  Flag  2h 55m 03s     N64        No  NaN\n",
       "370                Korupo  3h 05m 06s     N64        No  NaN\n",
       "381             Jumpyluff  3h 24m 26s     N64        No  NaN\n",
       "411               Nickfin  4h 56m 09s     N64        No  NaN"
      ]
     },
     "execution_count": 58,
     "metadata": {},
     "output_type": "execute_result"
    }
   ],
   "source": [
    "df.Date.isna().any()\n",
    "#df.Date.isna().any()\n",
    "df.loc[df.Date.isna()]"
   ]
  },
  {
   "cell_type": "markdown",
   "id": "41e3c94f",
   "metadata": {
    "slideshow": {
     "slide_type": "subslide"
    }
   },
   "source": [
    "Ignore NaN values"
   ]
  },
  {
   "cell_type": "code",
   "execution_count": 62,
   "id": "78fde958",
   "metadata": {
    "slideshow": {
     "slide_type": "-"
    }
   },
   "outputs": [
    {
     "data": {
      "text/html": [
       "<div>\n",
       "<style scoped>\n",
       "    .dataframe tbody tr th:only-of-type {\n",
       "        vertical-align: middle;\n",
       "    }\n",
       "\n",
       "    .dataframe tbody tr th {\n",
       "        vertical-align: top;\n",
       "    }\n",
       "\n",
       "    .dataframe thead th {\n",
       "        text-align: right;\n",
       "    }\n",
       "</style>\n",
       "<table border=\"1\" class=\"dataframe\">\n",
       "  <thead>\n",
       "    <tr style=\"text-align: right;\">\n",
       "      <th></th>\n",
       "      <th>Player</th>\n",
       "      <th>Time</th>\n",
       "      <th>Platform</th>\n",
       "      <th>Verified</th>\n",
       "      <th>Date</th>\n",
       "    </tr>\n",
       "    <tr>\n",
       "      <th>Position</th>\n",
       "      <th></th>\n",
       "      <th></th>\n",
       "      <th></th>\n",
       "      <th></th>\n",
       "      <th></th>\n",
       "    </tr>\n",
       "  </thead>\n",
       "  <tbody>\n",
       "    <tr>\n",
       "      <th>1</th>\n",
       "      <td>Liam</td>\n",
       "      <td>1h 38m 13s</td>\n",
       "      <td>N64</td>\n",
       "      <td>Yes</td>\n",
       "      <td>2 weeks ago</td>\n",
       "    </tr>\n",
       "    <tr>\n",
       "      <th>2</th>\n",
       "      <td>batora</td>\n",
       "      <td>1h 38m 21s</td>\n",
       "      <td>N64</td>\n",
       "      <td>Yes</td>\n",
       "      <td>6 months ago</td>\n",
       "    </tr>\n",
       "    <tr>\n",
       "      <th>3</th>\n",
       "      <td>cheese</td>\n",
       "      <td>1h 38m 25s</td>\n",
       "      <td>N64</td>\n",
       "      <td>Yes</td>\n",
       "      <td>8 months ago</td>\n",
       "    </tr>\n",
       "    <tr>\n",
       "      <th>4</th>\n",
       "      <td>simply</td>\n",
       "      <td>1h 38m 28s</td>\n",
       "      <td>N64</td>\n",
       "      <td>Yes</td>\n",
       "      <td>1 year ago</td>\n",
       "    </tr>\n",
       "    <tr>\n",
       "      <th>5</th>\n",
       "      <td>puncayshun</td>\n",
       "      <td>1h 38m 32s</td>\n",
       "      <td>N64</td>\n",
       "      <td>Yes</td>\n",
       "      <td>7 months ago</td>\n",
       "    </tr>\n",
       "    <tr>\n",
       "      <th>6</th>\n",
       "      <td>hokorobi</td>\n",
       "      <td>1h 38m 54s</td>\n",
       "      <td>N64</td>\n",
       "      <td>Yes</td>\n",
       "      <td>8 months ago</td>\n",
       "    </tr>\n",
       "    <tr>\n",
       "      <th>6</th>\n",
       "      <td>Taggo</td>\n",
       "      <td>1h 38m 54s</td>\n",
       "      <td>N64</td>\n",
       "      <td>Yes</td>\n",
       "      <td>3 months ago</td>\n",
       "    </tr>\n",
       "    <tr>\n",
       "      <th>8</th>\n",
       "      <td>Karin</td>\n",
       "      <td>1h 39m 00s</td>\n",
       "      <td>N64</td>\n",
       "      <td>Yes</td>\n",
       "      <td>3 months ago</td>\n",
       "    </tr>\n",
       "    <tr>\n",
       "      <th>8</th>\n",
       "      <td>Paracusia</td>\n",
       "      <td>1h 39m 00s</td>\n",
       "      <td>N64</td>\n",
       "      <td>Yes</td>\n",
       "      <td>1 month ago</td>\n",
       "    </tr>\n",
       "    <tr>\n",
       "      <th>10</th>\n",
       "      <td>ikori_o</td>\n",
       "      <td>1h 39m 08s</td>\n",
       "      <td>N64</td>\n",
       "      <td>Yes</td>\n",
       "      <td>1 month ago</td>\n",
       "    </tr>\n",
       "  </tbody>\n",
       "</table>\n",
       "</div>"
      ],
      "text/plain": [
       "              Player        Time Platform Verified          Date\n",
       "Position                                                        \n",
       "1               Liam  1h 38m 13s     N64       Yes   2 weeks ago\n",
       "2             batora  1h 38m 21s     N64       Yes  6 months ago\n",
       "3             cheese  1h 38m 25s     N64       Yes  8 months ago\n",
       "4             simply  1h 38m 28s     N64       Yes    1 year ago\n",
       "5         puncayshun  1h 38m 32s     N64       Yes  7 months ago\n",
       "6           hokorobi  1h 38m 54s     N64       Yes  8 months ago\n",
       "6              Taggo  1h 38m 54s     N64       Yes  3 months ago\n",
       "8              Karin  1h 39m 00s     N64       Yes  3 months ago\n",
       "8          Paracusia  1h 39m 00s     N64       Yes   1 month ago\n",
       "10           ikori_o  1h 39m 08s     N64       Yes   1 month ago"
      ]
     },
     "execution_count": 62,
     "metadata": {},
     "output_type": "execute_result"
    }
   ],
   "source": [
    "dates_notna = df.Date.dropna().apply(get_past_date)\n",
    "dates_notna.head(10)\n",
    "df.head(10)"
   ]
  },
  {
   "cell_type": "code",
   "execution_count": 60,
   "id": "b8b23d2b",
   "metadata": {
    "slideshow": {
     "slide_type": "fragment"
    }
   },
   "outputs": [
    {
     "ename": "ValueError",
     "evalue": "cannot reindex from a duplicate axis",
     "output_type": "error",
     "traceback": [
      "\u001b[0;31m---------------------------------------------------------------------------\u001b[0m",
      "\u001b[0;31mValueError\u001b[0m                                Traceback (most recent call last)",
      "\u001b[0;32m/tmp/ipykernel_3939606/3923548645.py\u001b[0m in \u001b[0;36m<module>\u001b[0;34m\u001b[0m\n\u001b[0;32m----> 1\u001b[0;31m \u001b[0mdf\u001b[0m\u001b[0;34m[\u001b[0m\u001b[0;34m\"date\"\u001b[0m\u001b[0;34m]\u001b[0m \u001b[0;34m=\u001b[0m \u001b[0mdates_notna\u001b[0m\u001b[0;34m\u001b[0m\u001b[0;34m\u001b[0m\u001b[0m\n\u001b[0m",
      "\u001b[0;32m~/code/envs/sr_env/lib/python3.8/site-packages/pandas/core/frame.py\u001b[0m in \u001b[0;36m__setitem__\u001b[0;34m(self, key, value)\u001b[0m\n\u001b[1;32m   3610\u001b[0m         \u001b[0;32melse\u001b[0m\u001b[0;34m:\u001b[0m\u001b[0;34m\u001b[0m\u001b[0;34m\u001b[0m\u001b[0m\n\u001b[1;32m   3611\u001b[0m             \u001b[0;31m# set column\u001b[0m\u001b[0;34m\u001b[0m\u001b[0;34m\u001b[0m\u001b[0;34m\u001b[0m\u001b[0m\n\u001b[0;32m-> 3612\u001b[0;31m             \u001b[0mself\u001b[0m\u001b[0;34m.\u001b[0m\u001b[0m_set_item\u001b[0m\u001b[0;34m(\u001b[0m\u001b[0mkey\u001b[0m\u001b[0;34m,\u001b[0m \u001b[0mvalue\u001b[0m\u001b[0;34m)\u001b[0m\u001b[0;34m\u001b[0m\u001b[0;34m\u001b[0m\u001b[0m\n\u001b[0m\u001b[1;32m   3613\u001b[0m \u001b[0;34m\u001b[0m\u001b[0m\n\u001b[1;32m   3614\u001b[0m     \u001b[0;32mdef\u001b[0m \u001b[0m_setitem_slice\u001b[0m\u001b[0;34m(\u001b[0m\u001b[0mself\u001b[0m\u001b[0;34m,\u001b[0m \u001b[0mkey\u001b[0m\u001b[0;34m:\u001b[0m \u001b[0mslice\u001b[0m\u001b[0;34m,\u001b[0m \u001b[0mvalue\u001b[0m\u001b[0;34m)\u001b[0m\u001b[0;34m:\u001b[0m\u001b[0;34m\u001b[0m\u001b[0;34m\u001b[0m\u001b[0m\n",
      "\u001b[0;32m~/code/envs/sr_env/lib/python3.8/site-packages/pandas/core/frame.py\u001b[0m in \u001b[0;36m_set_item\u001b[0;34m(self, key, value)\u001b[0m\n\u001b[1;32m   3782\u001b[0m         \u001b[0mensure\u001b[0m \u001b[0mhomogeneity\u001b[0m\u001b[0;34m.\u001b[0m\u001b[0;34m\u001b[0m\u001b[0;34m\u001b[0m\u001b[0m\n\u001b[1;32m   3783\u001b[0m         \"\"\"\n\u001b[0;32m-> 3784\u001b[0;31m         \u001b[0mvalue\u001b[0m \u001b[0;34m=\u001b[0m \u001b[0mself\u001b[0m\u001b[0;34m.\u001b[0m\u001b[0m_sanitize_column\u001b[0m\u001b[0;34m(\u001b[0m\u001b[0mvalue\u001b[0m\u001b[0;34m)\u001b[0m\u001b[0;34m\u001b[0m\u001b[0;34m\u001b[0m\u001b[0m\n\u001b[0m\u001b[1;32m   3785\u001b[0m \u001b[0;34m\u001b[0m\u001b[0m\n\u001b[1;32m   3786\u001b[0m         if (\n",
      "\u001b[0;32m~/code/envs/sr_env/lib/python3.8/site-packages/pandas/core/frame.py\u001b[0m in \u001b[0;36m_sanitize_column\u001b[0;34m(self, value)\u001b[0m\n\u001b[1;32m   4504\u001b[0m         \u001b[0;31m# We should never get here with DataFrame value\u001b[0m\u001b[0;34m\u001b[0m\u001b[0;34m\u001b[0m\u001b[0;34m\u001b[0m\u001b[0m\n\u001b[1;32m   4505\u001b[0m         \u001b[0;32mif\u001b[0m \u001b[0misinstance\u001b[0m\u001b[0;34m(\u001b[0m\u001b[0mvalue\u001b[0m\u001b[0;34m,\u001b[0m \u001b[0mSeries\u001b[0m\u001b[0;34m)\u001b[0m\u001b[0;34m:\u001b[0m\u001b[0;34m\u001b[0m\u001b[0;34m\u001b[0m\u001b[0m\n\u001b[0;32m-> 4506\u001b[0;31m             \u001b[0;32mreturn\u001b[0m \u001b[0m_reindex_for_setitem\u001b[0m\u001b[0;34m(\u001b[0m\u001b[0mvalue\u001b[0m\u001b[0;34m,\u001b[0m \u001b[0mself\u001b[0m\u001b[0;34m.\u001b[0m\u001b[0mindex\u001b[0m\u001b[0;34m)\u001b[0m\u001b[0;34m\u001b[0m\u001b[0;34m\u001b[0m\u001b[0m\n\u001b[0m\u001b[1;32m   4507\u001b[0m \u001b[0;34m\u001b[0m\u001b[0m\n\u001b[1;32m   4508\u001b[0m         \u001b[0;32mif\u001b[0m \u001b[0mis_list_like\u001b[0m\u001b[0;34m(\u001b[0m\u001b[0mvalue\u001b[0m\u001b[0;34m)\u001b[0m\u001b[0;34m:\u001b[0m\u001b[0;34m\u001b[0m\u001b[0;34m\u001b[0m\u001b[0m\n",
      "\u001b[0;32m~/code/envs/sr_env/lib/python3.8/site-packages/pandas/core/frame.py\u001b[0m in \u001b[0;36m_reindex_for_setitem\u001b[0;34m(value, index)\u001b[0m\n\u001b[1;32m  10778\u001b[0m         \u001b[0;32mif\u001b[0m \u001b[0;32mnot\u001b[0m \u001b[0mvalue\u001b[0m\u001b[0;34m.\u001b[0m\u001b[0mindex\u001b[0m\u001b[0;34m.\u001b[0m\u001b[0mis_unique\u001b[0m\u001b[0;34m:\u001b[0m\u001b[0;34m\u001b[0m\u001b[0;34m\u001b[0m\u001b[0m\n\u001b[1;32m  10779\u001b[0m             \u001b[0;31m# duplicate axis\u001b[0m\u001b[0;34m\u001b[0m\u001b[0;34m\u001b[0m\u001b[0;34m\u001b[0m\u001b[0m\n\u001b[0;32m> 10780\u001b[0;31m             \u001b[0;32mraise\u001b[0m \u001b[0merr\u001b[0m\u001b[0;34m\u001b[0m\u001b[0;34m\u001b[0m\u001b[0m\n\u001b[0m\u001b[1;32m  10781\u001b[0m \u001b[0;34m\u001b[0m\u001b[0m\n\u001b[1;32m  10782\u001b[0m         raise TypeError(\n",
      "\u001b[0;32m~/code/envs/sr_env/lib/python3.8/site-packages/pandas/core/frame.py\u001b[0m in \u001b[0;36m_reindex_for_setitem\u001b[0;34m(value, index)\u001b[0m\n\u001b[1;32m  10773\u001b[0m     \u001b[0;31m# GH#4107\u001b[0m\u001b[0;34m\u001b[0m\u001b[0;34m\u001b[0m\u001b[0;34m\u001b[0m\u001b[0m\n\u001b[1;32m  10774\u001b[0m     \u001b[0;32mtry\u001b[0m\u001b[0;34m:\u001b[0m\u001b[0;34m\u001b[0m\u001b[0;34m\u001b[0m\u001b[0m\n\u001b[0;32m> 10775\u001b[0;31m         \u001b[0mreindexed_value\u001b[0m \u001b[0;34m=\u001b[0m \u001b[0mvalue\u001b[0m\u001b[0;34m.\u001b[0m\u001b[0mreindex\u001b[0m\u001b[0;34m(\u001b[0m\u001b[0mindex\u001b[0m\u001b[0;34m)\u001b[0m\u001b[0;34m.\u001b[0m\u001b[0m_values\u001b[0m\u001b[0;34m\u001b[0m\u001b[0;34m\u001b[0m\u001b[0m\n\u001b[0m\u001b[1;32m  10776\u001b[0m     \u001b[0;32mexcept\u001b[0m \u001b[0mValueError\u001b[0m \u001b[0;32mas\u001b[0m \u001b[0merr\u001b[0m\u001b[0;34m:\u001b[0m\u001b[0;34m\u001b[0m\u001b[0;34m\u001b[0m\u001b[0m\n\u001b[1;32m  10777\u001b[0m         \u001b[0;31m# raised in MultiIndex.from_tuples, see test_insert_error_msmgs\u001b[0m\u001b[0;34m\u001b[0m\u001b[0;34m\u001b[0m\u001b[0;34m\u001b[0m\u001b[0m\n",
      "\u001b[0;32m~/code/envs/sr_env/lib/python3.8/site-packages/pandas/core/series.py\u001b[0m in \u001b[0;36mreindex\u001b[0;34m(self, index, **kwargs)\u001b[0m\n\u001b[1;32m   4578\u001b[0m     )\n\u001b[1;32m   4579\u001b[0m     \u001b[0;32mdef\u001b[0m \u001b[0mreindex\u001b[0m\u001b[0;34m(\u001b[0m\u001b[0mself\u001b[0m\u001b[0;34m,\u001b[0m \u001b[0mindex\u001b[0m\u001b[0;34m=\u001b[0m\u001b[0;32mNone\u001b[0m\u001b[0;34m,\u001b[0m \u001b[0;34m**\u001b[0m\u001b[0mkwargs\u001b[0m\u001b[0;34m)\u001b[0m\u001b[0;34m:\u001b[0m\u001b[0;34m\u001b[0m\u001b[0;34m\u001b[0m\u001b[0m\n\u001b[0;32m-> 4580\u001b[0;31m         \u001b[0;32mreturn\u001b[0m \u001b[0msuper\u001b[0m\u001b[0;34m(\u001b[0m\u001b[0;34m)\u001b[0m\u001b[0;34m.\u001b[0m\u001b[0mreindex\u001b[0m\u001b[0;34m(\u001b[0m\u001b[0mindex\u001b[0m\u001b[0;34m=\u001b[0m\u001b[0mindex\u001b[0m\u001b[0;34m,\u001b[0m \u001b[0;34m**\u001b[0m\u001b[0mkwargs\u001b[0m\u001b[0;34m)\u001b[0m\u001b[0;34m\u001b[0m\u001b[0;34m\u001b[0m\u001b[0m\n\u001b[0m\u001b[1;32m   4581\u001b[0m \u001b[0;34m\u001b[0m\u001b[0m\n\u001b[1;32m   4582\u001b[0m     \u001b[0;34m@\u001b[0m\u001b[0mdeprecate_nonkeyword_arguments\u001b[0m\u001b[0;34m(\u001b[0m\u001b[0mversion\u001b[0m\u001b[0;34m=\u001b[0m\u001b[0;32mNone\u001b[0m\u001b[0;34m,\u001b[0m \u001b[0mallowed_args\u001b[0m\u001b[0;34m=\u001b[0m\u001b[0;34m[\u001b[0m\u001b[0;34m\"self\"\u001b[0m\u001b[0;34m,\u001b[0m \u001b[0;34m\"labels\"\u001b[0m\u001b[0;34m]\u001b[0m\u001b[0;34m)\u001b[0m\u001b[0;34m\u001b[0m\u001b[0;34m\u001b[0m\u001b[0m\n",
      "\u001b[0;32m~/code/envs/sr_env/lib/python3.8/site-packages/pandas/core/generic.py\u001b[0m in \u001b[0;36mreindex\u001b[0;34m(self, *args, **kwargs)\u001b[0m\n\u001b[1;32m   4816\u001b[0m \u001b[0;34m\u001b[0m\u001b[0m\n\u001b[1;32m   4817\u001b[0m         \u001b[0;31m# perform the reindex on the axes\u001b[0m\u001b[0;34m\u001b[0m\u001b[0;34m\u001b[0m\u001b[0;34m\u001b[0m\u001b[0m\n\u001b[0;32m-> 4818\u001b[0;31m         return self._reindex_axes(\n\u001b[0m\u001b[1;32m   4819\u001b[0m             \u001b[0maxes\u001b[0m\u001b[0;34m,\u001b[0m \u001b[0mlevel\u001b[0m\u001b[0;34m,\u001b[0m \u001b[0mlimit\u001b[0m\u001b[0;34m,\u001b[0m \u001b[0mtolerance\u001b[0m\u001b[0;34m,\u001b[0m \u001b[0mmethod\u001b[0m\u001b[0;34m,\u001b[0m \u001b[0mfill_value\u001b[0m\u001b[0;34m,\u001b[0m \u001b[0mcopy\u001b[0m\u001b[0;34m\u001b[0m\u001b[0;34m\u001b[0m\u001b[0m\n\u001b[1;32m   4820\u001b[0m         ).__finalize__(self, method=\"reindex\")\n",
      "\u001b[0;32m~/code/envs/sr_env/lib/python3.8/site-packages/pandas/core/generic.py\u001b[0m in \u001b[0;36m_reindex_axes\u001b[0;34m(self, axes, level, limit, tolerance, method, fill_value, copy)\u001b[0m\n\u001b[1;32m   4837\u001b[0m \u001b[0;34m\u001b[0m\u001b[0m\n\u001b[1;32m   4838\u001b[0m             \u001b[0maxis\u001b[0m \u001b[0;34m=\u001b[0m \u001b[0mself\u001b[0m\u001b[0;34m.\u001b[0m\u001b[0m_get_axis_number\u001b[0m\u001b[0;34m(\u001b[0m\u001b[0ma\u001b[0m\u001b[0;34m)\u001b[0m\u001b[0;34m\u001b[0m\u001b[0;34m\u001b[0m\u001b[0m\n\u001b[0;32m-> 4839\u001b[0;31m             obj = obj._reindex_with_indexers(\n\u001b[0m\u001b[1;32m   4840\u001b[0m                 \u001b[0;34m{\u001b[0m\u001b[0maxis\u001b[0m\u001b[0;34m:\u001b[0m \u001b[0;34m[\u001b[0m\u001b[0mnew_index\u001b[0m\u001b[0;34m,\u001b[0m \u001b[0mindexer\u001b[0m\u001b[0;34m]\u001b[0m\u001b[0;34m}\u001b[0m\u001b[0;34m,\u001b[0m\u001b[0;34m\u001b[0m\u001b[0;34m\u001b[0m\u001b[0m\n\u001b[1;32m   4841\u001b[0m                 \u001b[0mfill_value\u001b[0m\u001b[0;34m=\u001b[0m\u001b[0mfill_value\u001b[0m\u001b[0;34m,\u001b[0m\u001b[0;34m\u001b[0m\u001b[0;34m\u001b[0m\u001b[0m\n",
      "\u001b[0;32m~/code/envs/sr_env/lib/python3.8/site-packages/pandas/core/generic.py\u001b[0m in \u001b[0;36m_reindex_with_indexers\u001b[0;34m(self, reindexers, fill_value, copy, allow_dups)\u001b[0m\n\u001b[1;32m   4881\u001b[0m \u001b[0;34m\u001b[0m\u001b[0m\n\u001b[1;32m   4882\u001b[0m             \u001b[0;31m# TODO: speed up on homogeneous DataFrame objects\u001b[0m\u001b[0;34m\u001b[0m\u001b[0;34m\u001b[0m\u001b[0;34m\u001b[0m\u001b[0m\n\u001b[0;32m-> 4883\u001b[0;31m             new_data = new_data.reindex_indexer(\n\u001b[0m\u001b[1;32m   4884\u001b[0m                 \u001b[0mindex\u001b[0m\u001b[0;34m,\u001b[0m\u001b[0;34m\u001b[0m\u001b[0;34m\u001b[0m\u001b[0m\n\u001b[1;32m   4885\u001b[0m                 \u001b[0mindexer\u001b[0m\u001b[0;34m,\u001b[0m\u001b[0;34m\u001b[0m\u001b[0;34m\u001b[0m\u001b[0m\n",
      "\u001b[0;32m~/code/envs/sr_env/lib/python3.8/site-packages/pandas/core/internals/managers.py\u001b[0m in \u001b[0;36mreindex_indexer\u001b[0;34m(self, new_axis, indexer, axis, fill_value, allow_dups, copy, consolidate, only_slice)\u001b[0m\n\u001b[1;32m    668\u001b[0m         \u001b[0;31m# some axes don't allow reindexing with dups\u001b[0m\u001b[0;34m\u001b[0m\u001b[0;34m\u001b[0m\u001b[0;34m\u001b[0m\u001b[0m\n\u001b[1;32m    669\u001b[0m         \u001b[0;32mif\u001b[0m \u001b[0;32mnot\u001b[0m \u001b[0mallow_dups\u001b[0m\u001b[0;34m:\u001b[0m\u001b[0;34m\u001b[0m\u001b[0;34m\u001b[0m\u001b[0m\n\u001b[0;32m--> 670\u001b[0;31m             \u001b[0mself\u001b[0m\u001b[0;34m.\u001b[0m\u001b[0maxes\u001b[0m\u001b[0;34m[\u001b[0m\u001b[0maxis\u001b[0m\u001b[0;34m]\u001b[0m\u001b[0;34m.\u001b[0m\u001b[0m_validate_can_reindex\u001b[0m\u001b[0;34m(\u001b[0m\u001b[0mindexer\u001b[0m\u001b[0;34m)\u001b[0m\u001b[0;34m\u001b[0m\u001b[0;34m\u001b[0m\u001b[0m\n\u001b[0m\u001b[1;32m    671\u001b[0m \u001b[0;34m\u001b[0m\u001b[0m\n\u001b[1;32m    672\u001b[0m         \u001b[0;32mif\u001b[0m \u001b[0maxis\u001b[0m \u001b[0;34m>=\u001b[0m \u001b[0mself\u001b[0m\u001b[0;34m.\u001b[0m\u001b[0mndim\u001b[0m\u001b[0;34m:\u001b[0m\u001b[0;34m\u001b[0m\u001b[0;34m\u001b[0m\u001b[0m\n",
      "\u001b[0;32m~/code/envs/sr_env/lib/python3.8/site-packages/pandas/core/indexes/base.py\u001b[0m in \u001b[0;36m_validate_can_reindex\u001b[0;34m(self, indexer)\u001b[0m\n\u001b[1;32m   3783\u001b[0m         \u001b[0;31m# trying to reindex on an axis with duplicates\u001b[0m\u001b[0;34m\u001b[0m\u001b[0;34m\u001b[0m\u001b[0;34m\u001b[0m\u001b[0m\n\u001b[1;32m   3784\u001b[0m         \u001b[0;32mif\u001b[0m \u001b[0;32mnot\u001b[0m \u001b[0mself\u001b[0m\u001b[0;34m.\u001b[0m\u001b[0m_index_as_unique\u001b[0m \u001b[0;32mand\u001b[0m \u001b[0mlen\u001b[0m\u001b[0;34m(\u001b[0m\u001b[0mindexer\u001b[0m\u001b[0;34m)\u001b[0m\u001b[0;34m:\u001b[0m\u001b[0;34m\u001b[0m\u001b[0;34m\u001b[0m\u001b[0m\n\u001b[0;32m-> 3785\u001b[0;31m             \u001b[0;32mraise\u001b[0m \u001b[0mValueError\u001b[0m\u001b[0;34m(\u001b[0m\u001b[0;34m\"cannot reindex from a duplicate axis\"\u001b[0m\u001b[0;34m)\u001b[0m\u001b[0;34m\u001b[0m\u001b[0;34m\u001b[0m\u001b[0m\n\u001b[0m\u001b[1;32m   3786\u001b[0m \u001b[0;34m\u001b[0m\u001b[0m\n\u001b[1;32m   3787\u001b[0m     def reindex(\n",
      "\u001b[0;31mValueError\u001b[0m: cannot reindex from a duplicate axis"
     ]
    }
   ],
   "source": [
    "df[\"date\"] = dates_notna"
   ]
  },
  {
   "cell_type": "markdown",
   "id": "2f076065",
   "metadata": {
    "slideshow": {
     "slide_type": "subslide"
    }
   },
   "source": [
    "The index is not unique!"
   ]
  },
  {
   "cell_type": "code",
   "execution_count": null,
   "id": "9a5ef024",
   "metadata": {
    "slideshow": {
     "slide_type": "fragment"
    }
   },
   "outputs": [],
   "source": [
    "df.head(10)"
   ]
  },
  {
   "cell_type": "code",
   "execution_count": 65,
   "id": "db9e8edc",
   "metadata": {
    "slideshow": {
     "slide_type": "subslide"
    }
   },
   "outputs": [],
   "source": [
    "#df.reset_index(inplace=True)\n",
    "df = df.reset_index()\n",
    "#df.head()"
   ]
  },
  {
   "cell_type": "code",
   "execution_count": 66,
   "id": "13aec43f",
   "metadata": {
    "slideshow": {
     "slide_type": "fragment"
    }
   },
   "outputs": [
    {
     "data": {
      "text/plain": [
       "0    2021-10-13\n",
       "1    2021-04-27\n",
       "2    2021-02-27\n",
       "3    2020-10-27\n",
       "4    2021-03-27\n",
       "5    2021-02-27\n",
       "6    2021-07-27\n",
       "7    2021-07-27\n",
       "Name: Date, dtype: object"
      ]
     },
     "execution_count": 66,
     "metadata": {},
     "output_type": "execute_result"
    }
   ],
   "source": [
    "# mention drop_duplicates\n",
    "#dates = df.Date[df.Date.notna()].apply(get_past_date)\n",
    "dates_notna = df.Date.dropna().apply(get_past_date)\n",
    "dates_notna.head(8)"
   ]
  },
  {
   "cell_type": "code",
   "execution_count": 67,
   "id": "5e5403d2",
   "metadata": {
    "slideshow": {
     "slide_type": "subslide"
    }
   },
   "outputs": [
    {
     "data": {
      "text/html": [
       "<div>\n",
       "<style scoped>\n",
       "    .dataframe tbody tr th:only-of-type {\n",
       "        vertical-align: middle;\n",
       "    }\n",
       "\n",
       "    .dataframe tbody tr th {\n",
       "        vertical-align: top;\n",
       "    }\n",
       "\n",
       "    .dataframe thead th {\n",
       "        text-align: right;\n",
       "    }\n",
       "</style>\n",
       "<table border=\"1\" class=\"dataframe\">\n",
       "  <thead>\n",
       "    <tr style=\"text-align: right;\">\n",
       "      <th></th>\n",
       "      <th>Position</th>\n",
       "      <th>Player</th>\n",
       "      <th>Time</th>\n",
       "      <th>Platform</th>\n",
       "      <th>Verified</th>\n",
       "      <th>Date</th>\n",
       "      <th>date</th>\n",
       "    </tr>\n",
       "  </thead>\n",
       "  <tbody>\n",
       "    <tr>\n",
       "      <th>0</th>\n",
       "      <td>1</td>\n",
       "      <td>Liam</td>\n",
       "      <td>1h 38m 13s</td>\n",
       "      <td>N64</td>\n",
       "      <td>Yes</td>\n",
       "      <td>2 weeks ago</td>\n",
       "      <td>2021-10-13</td>\n",
       "    </tr>\n",
       "    <tr>\n",
       "      <th>1</th>\n",
       "      <td>2</td>\n",
       "      <td>batora</td>\n",
       "      <td>1h 38m 21s</td>\n",
       "      <td>N64</td>\n",
       "      <td>Yes</td>\n",
       "      <td>6 months ago</td>\n",
       "      <td>2021-04-27</td>\n",
       "    </tr>\n",
       "    <tr>\n",
       "      <th>2</th>\n",
       "      <td>3</td>\n",
       "      <td>cheese</td>\n",
       "      <td>1h 38m 25s</td>\n",
       "      <td>N64</td>\n",
       "      <td>Yes</td>\n",
       "      <td>8 months ago</td>\n",
       "      <td>2021-02-27</td>\n",
       "    </tr>\n",
       "    <tr>\n",
       "      <th>3</th>\n",
       "      <td>4</td>\n",
       "      <td>simply</td>\n",
       "      <td>1h 38m 28s</td>\n",
       "      <td>N64</td>\n",
       "      <td>Yes</td>\n",
       "      <td>1 year ago</td>\n",
       "      <td>2020-10-27</td>\n",
       "    </tr>\n",
       "    <tr>\n",
       "      <th>4</th>\n",
       "      <td>5</td>\n",
       "      <td>puncayshun</td>\n",
       "      <td>1h 38m 32s</td>\n",
       "      <td>N64</td>\n",
       "      <td>Yes</td>\n",
       "      <td>7 months ago</td>\n",
       "      <td>2021-03-27</td>\n",
       "    </tr>\n",
       "    <tr>\n",
       "      <th>5</th>\n",
       "      <td>6</td>\n",
       "      <td>hokorobi</td>\n",
       "      <td>1h 38m 54s</td>\n",
       "      <td>N64</td>\n",
       "      <td>Yes</td>\n",
       "      <td>8 months ago</td>\n",
       "      <td>2021-02-27</td>\n",
       "    </tr>\n",
       "    <tr>\n",
       "      <th>6</th>\n",
       "      <td>6</td>\n",
       "      <td>Taggo</td>\n",
       "      <td>1h 38m 54s</td>\n",
       "      <td>N64</td>\n",
       "      <td>Yes</td>\n",
       "      <td>3 months ago</td>\n",
       "      <td>2021-07-27</td>\n",
       "    </tr>\n",
       "    <tr>\n",
       "      <th>7</th>\n",
       "      <td>8</td>\n",
       "      <td>Karin</td>\n",
       "      <td>1h 39m 00s</td>\n",
       "      <td>N64</td>\n",
       "      <td>Yes</td>\n",
       "      <td>3 months ago</td>\n",
       "      <td>2021-07-27</td>\n",
       "    </tr>\n",
       "  </tbody>\n",
       "</table>\n",
       "</div>"
      ],
      "text/plain": [
       "   Position      Player        Time Platform Verified          Date  \\\n",
       "0         1        Liam  1h 38m 13s     N64       Yes   2 weeks ago   \n",
       "1         2      batora  1h 38m 21s     N64       Yes  6 months ago   \n",
       "2         3      cheese  1h 38m 25s     N64       Yes  8 months ago   \n",
       "3         4      simply  1h 38m 28s     N64       Yes    1 year ago   \n",
       "4         5  puncayshun  1h 38m 32s     N64       Yes  7 months ago   \n",
       "5         6    hokorobi  1h 38m 54s     N64       Yes  8 months ago   \n",
       "6         6       Taggo  1h 38m 54s     N64       Yes  3 months ago   \n",
       "7         8       Karin  1h 39m 00s     N64       Yes  3 months ago   \n",
       "\n",
       "         date  \n",
       "0  2021-10-13  \n",
       "1  2021-04-27  \n",
       "2  2021-02-27  \n",
       "3  2020-10-27  \n",
       "4  2021-03-27  \n",
       "5  2021-02-27  \n",
       "6  2021-07-27  \n",
       "7  2021-07-27  "
      ]
     },
     "execution_count": 67,
     "metadata": {},
     "output_type": "execute_result"
    }
   ],
   "source": [
    "df[\"date\"] = dates_notna\n",
    "df.head(8)"
   ]
  },
  {
   "cell_type": "markdown",
   "id": "c9758072",
   "metadata": {
    "slideshow": {
     "slide_type": "slide"
    }
   },
   "source": [
    "## dtypes"
   ]
  },
  {
   "cell_type": "code",
   "execution_count": 71,
   "id": "d956c9db",
   "metadata": {
    "slideshow": {
     "slide_type": "fragment"
    }
   },
   "outputs": [
    {
     "data": {
      "text/plain": [
       "'2021-10-13'"
      ]
     },
     "execution_count": 71,
     "metadata": {},
     "output_type": "execute_result"
    },
    {
     "data": {
      "image/png": "[encoded data removed]",
      "text/plain": [
       "<Figure size 864x576 with 1 Axes>"
      ]
     },
     "metadata": {
      "needs_background": "light"
     },
     "output_type": "display_data"
    }
   ],
   "source": [
    "df.plot(x=\"date\", y=\"Position\");\n",
    "df.date[0]"
   ]
  },
  {
   "cell_type": "code",
   "execution_count": null,
   "id": "efc30454",
   "metadata": {
    "slideshow": {
     "slide_type": "subslide"
    }
   },
   "outputs": [],
   "source": [
    "df.dtypes"
   ]
  },
  {
   "cell_type": "markdown",
   "id": "fe5d9708",
   "metadata": {
    "slideshow": {
     "slide_type": "subslide"
    }
   },
   "source": [
    "### Dtype Conversion\n",
    "\n",
    "- pd.to_datetime\n",
    "- pd.to_timestamp\n",
    "- pd.to_numeric\n",
    "- pd.to_timedelta\n",
    "- pd.DataFrame.astype\n"
   ]
  },
  {
   "cell_type": "code",
   "execution_count": 72,
   "id": "be64f9a0",
   "metadata": {
    "slideshow": {
     "slide_type": "subslide"
    }
   },
   "outputs": [
    {
     "data": {
      "text/plain": [
       "0     2021-10-13\n",
       "1     2021-04-27\n",
       "2     2021-02-27\n",
       "3     2020-10-27\n",
       "4     2021-03-27\n",
       "         ...    \n",
       "413   2020-10-27\n",
       "414   2016-10-27\n",
       "415   2021-07-27\n",
       "416   2020-10-27\n",
       "417   2015-10-27\n",
       "Name: date, Length: 418, dtype: datetime64[ns]"
      ]
     },
     "execution_count": 72,
     "metadata": {},
     "output_type": "execute_result"
    }
   ],
   "source": [
    "pd.to_datetime(df[\"date\"])"
   ]
  },
  {
   "cell_type": "code",
   "execution_count": 73,
   "id": "5cd4f775",
   "metadata": {
    "slideshow": {
     "slide_type": "fragment"
    }
   },
   "outputs": [
    {
     "data": {
      "text/plain": [
       "Position             int64\n",
       "Player              object\n",
       "Time                object\n",
       "Platform            object\n",
       "Verified            object\n",
       "Date                object\n",
       "date        datetime64[ns]\n",
       "dtype: object"
      ]
     },
     "execution_count": 73,
     "metadata": {},
     "output_type": "execute_result"
    }
   ],
   "source": [
    "df[\"date\"] = pd.to_datetime(df[\"date\"])\n",
    "df.dtypes"
   ]
  },
  {
   "cell_type": "code",
   "execution_count": 74,
   "id": "5b63fdd0",
   "metadata": {
    "slideshow": {
     "slide_type": "subslide"
    }
   },
   "outputs": [
    {
     "data": {
      "image/png": "[encoded data removed]",
      "text/plain": [
       "<Figure size 864x576 with 1 Axes>"
      ]
     },
     "metadata": {
      "needs_background": "light"
     },
     "output_type": "display_data"
    }
   ],
   "source": [
    "df.plot(x=\"Position\", y=\"date\");"
   ]
  },
  {
   "cell_type": "code",
   "execution_count": 75,
   "id": "dd1c7024",
   "metadata": {
    "slideshow": {
     "slide_type": "subslide"
    }
   },
   "outputs": [
    {
     "data": {
      "image/png": "[encoded data removed]",
      "text/plain": [
       "<Figure size 864x576 with 1 Axes>"
      ]
     },
     "metadata": {
      "needs_background": "light"
     },
     "output_type": "display_data"
    }
   ],
   "source": [
    "df.plot.scatter(x=\"Position\", y=\"date\");"
   ]
  },
  {
   "cell_type": "code",
   "execution_count": 76,
   "id": "dca9b6ff",
   "metadata": {
    "slideshow": {
     "slide_type": "subslide"
    }
   },
   "outputs": [
    {
     "data": {
      "image/png": "[encoded data removed]",
      "text/plain": [
       "<Figure size 864x576 with 1 Axes>"
      ]
     },
     "metadata": {
      "needs_background": "light"
     },
     "output_type": "display_data"
    }
   ],
   "source": [
    "df.plot.scatter(x=\"Position\", y=\"date\", logx=True);"
   ]
  },
  {
   "cell_type": "code",
   "execution_count": null,
   "id": "54a1f240",
   "metadata": {
    "slideshow": {
     "slide_type": "skip"
    }
   },
   "outputs": [],
   "source": [
    "# ignore?\n",
    "df[\"Platform\"].unique()"
   ]
  },
  {
   "cell_type": "markdown",
   "id": "969afdd0",
   "metadata": {
    "slideshow": {
     "slide_type": "subslide"
    }
   },
   "source": [
    "- df.value.str\n"
   ]
  },
  {
   "cell_type": "code",
   "execution_count": 77,
   "id": "05a92247",
   "metadata": {
    "slideshow": {
     "slide_type": "fragment"
    }
   },
   "outputs": [
    {
     "data": {
      "text/plain": [
       "0      1h 38m 13s\n",
       "20     1h 41m 13s\n",
       "27     1h 42m 13s\n",
       "28     1h 42m 13s\n",
       "148    1h 50m 13s\n",
       "175    1h 53m 13s\n",
       "215    1h 58m 13s\n",
       "225    1h 59m 13s\n",
       "279    2h 13m 03s\n",
       "280    2h 13m 32s\n",
       "375    3h 12m 13s\n",
       "401    4h 13m 16s\n",
       "402    4h 13m 24s\n",
       "Name: Time, dtype: object"
      ]
     },
     "execution_count": 77,
     "metadata": {},
     "output_type": "execute_result"
    }
   ],
   "source": [
    "df.Time[df.Time.str.contains(\"13\")]"
   ]
  },
  {
   "cell_type": "code",
   "execution_count": 79,
   "id": "ff6239c0",
   "metadata": {
    "slideshow": {
     "slide_type": "subslide"
    }
   },
   "outputs": [
    {
     "data": {
      "text/html": [
       "<div>\n",
       "<style scoped>\n",
       "    .dataframe tbody tr th:only-of-type {\n",
       "        vertical-align: middle;\n",
       "    }\n",
       "\n",
       "    .dataframe tbody tr th {\n",
       "        vertical-align: top;\n",
       "    }\n",
       "\n",
       "    .dataframe thead th {\n",
       "        text-align: right;\n",
       "    }\n",
       "</style>\n",
       "<table border=\"1\" class=\"dataframe\">\n",
       "  <thead>\n",
       "    <tr style=\"text-align: right;\">\n",
       "      <th></th>\n",
       "      <th>hours</th>\n",
       "      <th>minutes</th>\n",
       "      <th>seconds</th>\n",
       "    </tr>\n",
       "  </thead>\n",
       "  <tbody>\n",
       "    <tr>\n",
       "      <th>0</th>\n",
       "      <td>1</td>\n",
       "      <td>38</td>\n",
       "      <td>13</td>\n",
       "    </tr>\n",
       "    <tr>\n",
       "      <th>1</th>\n",
       "      <td>1</td>\n",
       "      <td>38</td>\n",
       "      <td>21</td>\n",
       "    </tr>\n",
       "    <tr>\n",
       "      <th>2</th>\n",
       "      <td>1</td>\n",
       "      <td>38</td>\n",
       "      <td>25</td>\n",
       "    </tr>\n",
       "    <tr>\n",
       "      <th>3</th>\n",
       "      <td>1</td>\n",
       "      <td>38</td>\n",
       "      <td>28</td>\n",
       "    </tr>\n",
       "    <tr>\n",
       "      <th>4</th>\n",
       "      <td>1</td>\n",
       "      <td>38</td>\n",
       "      <td>32</td>\n",
       "    </tr>\n",
       "  </tbody>\n",
       "</table>\n",
       "</div>"
      ],
      "text/plain": [
       "   hours  minutes  seconds\n",
       "0      1       38       13\n",
       "1      1       38       21\n",
       "2      1       38       25\n",
       "3      1       38       28\n",
       "4      1       38       32"
      ]
     },
     "execution_count": 79,
     "metadata": {},
     "output_type": "execute_result"
    }
   ],
   "source": [
    "time = df.Time.str.extract(r'(?P<hours>\\d+)h (?P<minutes>\\d+)m (?P<seconds>\\d+)s')\n",
    "\n",
    "time[\"hours\"] = pd.to_numeric(time[\"hours\"])\n",
    "time[\"minutes\"] = pd.to_numeric(time[\"minutes\"])\n",
    "time[\"seconds\"] = pd.to_numeric(time[\"seconds\"])\n",
    "time.head()\n"
   ]
  },
  {
   "cell_type": "code",
   "execution_count": 80,
   "id": "353979da",
   "metadata": {
    "slideshow": {
     "slide_type": "fragment"
    }
   },
   "outputs": [
    {
     "data": {
      "text/html": [
       "<div>\n",
       "<style scoped>\n",
       "    .dataframe tbody tr th:only-of-type {\n",
       "        vertical-align: middle;\n",
       "    }\n",
       "\n",
       "    .dataframe tbody tr th {\n",
       "        vertical-align: top;\n",
       "    }\n",
       "\n",
       "    .dataframe thead th {\n",
       "        text-align: right;\n",
       "    }\n",
       "</style>\n",
       "<table border=\"1\" class=\"dataframe\">\n",
       "  <thead>\n",
       "    <tr style=\"text-align: right;\">\n",
       "      <th></th>\n",
       "      <th>Position</th>\n",
       "      <th>Player</th>\n",
       "      <th>Time</th>\n",
       "      <th>Platform</th>\n",
       "      <th>Verified</th>\n",
       "      <th>Date</th>\n",
       "      <th>date</th>\n",
       "      <th>seconds</th>\n",
       "    </tr>\n",
       "  </thead>\n",
       "  <tbody>\n",
       "    <tr>\n",
       "      <th>0</th>\n",
       "      <td>1</td>\n",
       "      <td>Liam</td>\n",
       "      <td>1h 38m 13s</td>\n",
       "      <td>N64</td>\n",
       "      <td>Yes</td>\n",
       "      <td>2 weeks ago</td>\n",
       "      <td>2021-10-13</td>\n",
       "      <td>5893</td>\n",
       "    </tr>\n",
       "    <tr>\n",
       "      <th>1</th>\n",
       "      <td>2</td>\n",
       "      <td>batora</td>\n",
       "      <td>1h 38m 21s</td>\n",
       "      <td>N64</td>\n",
       "      <td>Yes</td>\n",
       "      <td>6 months ago</td>\n",
       "      <td>2021-04-27</td>\n",
       "      <td>5901</td>\n",
       "    </tr>\n",
       "    <tr>\n",
       "      <th>2</th>\n",
       "      <td>3</td>\n",
       "      <td>cheese</td>\n",
       "      <td>1h 38m 25s</td>\n",
       "      <td>N64</td>\n",
       "      <td>Yes</td>\n",
       "      <td>8 months ago</td>\n",
       "      <td>2021-02-27</td>\n",
       "      <td>5905</td>\n",
       "    </tr>\n",
       "    <tr>\n",
       "      <th>3</th>\n",
       "      <td>4</td>\n",
       "      <td>simply</td>\n",
       "      <td>1h 38m 28s</td>\n",
       "      <td>N64</td>\n",
       "      <td>Yes</td>\n",
       "      <td>1 year ago</td>\n",
       "      <td>2020-10-27</td>\n",
       "      <td>5908</td>\n",
       "    </tr>\n",
       "    <tr>\n",
       "      <th>4</th>\n",
       "      <td>5</td>\n",
       "      <td>puncayshun</td>\n",
       "      <td>1h 38m 32s</td>\n",
       "      <td>N64</td>\n",
       "      <td>Yes</td>\n",
       "      <td>7 months ago</td>\n",
       "      <td>2021-03-27</td>\n",
       "      <td>5912</td>\n",
       "    </tr>\n",
       "  </tbody>\n",
       "</table>\n",
       "</div>"
      ],
      "text/plain": [
       "   Position      Player        Time Platform Verified          Date  \\\n",
       "0         1        Liam  1h 38m 13s     N64       Yes   2 weeks ago   \n",
       "1         2      batora  1h 38m 21s     N64       Yes  6 months ago   \n",
       "2         3      cheese  1h 38m 25s     N64       Yes  8 months ago   \n",
       "3         4      simply  1h 38m 28s     N64       Yes    1 year ago   \n",
       "4         5  puncayshun  1h 38m 32s     N64       Yes  7 months ago   \n",
       "\n",
       "        date  seconds  \n",
       "0 2021-10-13     5893  \n",
       "1 2021-04-27     5901  \n",
       "2 2021-02-27     5905  \n",
       "3 2020-10-27     5908  \n",
       "4 2021-03-27     5912  "
      ]
     },
     "execution_count": 80,
     "metadata": {},
     "output_type": "execute_result"
    }
   ],
   "source": [
    "seconds = time.hours*3600 + time.minutes*60 + time.seconds\n",
    "df[\"seconds\"] = seconds\n",
    "df.head()"
   ]
  },
  {
   "cell_type": "code",
   "execution_count": 81,
   "id": "b021de6d",
   "metadata": {
    "slideshow": {
     "slide_type": "subslide"
    }
   },
   "outputs": [
    {
     "data": {
      "text/plain": [
       "0     0 days 01:38:13\n",
       "1     0 days 01:38:21\n",
       "2     0 days 01:38:25\n",
       "3     0 days 01:38:28\n",
       "4     0 days 01:38:32\n",
       "            ...      \n",
       "413   0 days 05:54:57\n",
       "414   0 days 05:59:18\n",
       "415   0 days 09:11:54\n",
       "416   0 days 10:40:40\n",
       "417   0 days 16:32:42\n",
       "Name: seconds, Length: 418, dtype: timedelta64[ns]"
      ]
     },
     "execution_count": 81,
     "metadata": {},
     "output_type": "execute_result"
    }
   ],
   "source": [
    "# we could also convert seconds to timedelta\n",
    "\n",
    "pd.to_timedelta(df[\"seconds\"], unit=\"s\")"
   ]
  },
  {
   "cell_type": "markdown",
   "id": "ba5f2aac",
   "metadata": {
    "slideshow": {
     "slide_type": "subslide"
    }
   },
   "source": [
    "## Column slicing"
   ]
  },
  {
   "cell_type": "code",
   "execution_count": 82,
   "id": "270ecdd7",
   "metadata": {
    "slideshow": {
     "slide_type": "fragment"
    }
   },
   "outputs": [
    {
     "data": {
      "text/html": [
       "<div>\n",
       "<style scoped>\n",
       "    .dataframe tbody tr th:only-of-type {\n",
       "        vertical-align: middle;\n",
       "    }\n",
       "\n",
       "    .dataframe tbody tr th {\n",
       "        vertical-align: top;\n",
       "    }\n",
       "\n",
       "    .dataframe thead th {\n",
       "        text-align: right;\n",
       "    }\n",
       "</style>\n",
       "<table border=\"1\" class=\"dataframe\">\n",
       "  <thead>\n",
       "    <tr style=\"text-align: right;\">\n",
       "      <th></th>\n",
       "      <th>Position</th>\n",
       "      <th>Player</th>\n",
       "      <th>Verified</th>\n",
       "      <th>date</th>\n",
       "      <th>seconds</th>\n",
       "    </tr>\n",
       "  </thead>\n",
       "  <tbody>\n",
       "    <tr>\n",
       "      <th>0</th>\n",
       "      <td>1</td>\n",
       "      <td>Liam</td>\n",
       "      <td>Yes</td>\n",
       "      <td>2021-10-13</td>\n",
       "      <td>5893</td>\n",
       "    </tr>\n",
       "    <tr>\n",
       "      <th>1</th>\n",
       "      <td>2</td>\n",
       "      <td>batora</td>\n",
       "      <td>Yes</td>\n",
       "      <td>2021-04-27</td>\n",
       "      <td>5901</td>\n",
       "    </tr>\n",
       "    <tr>\n",
       "      <th>2</th>\n",
       "      <td>3</td>\n",
       "      <td>cheese</td>\n",
       "      <td>Yes</td>\n",
       "      <td>2021-02-27</td>\n",
       "      <td>5905</td>\n",
       "    </tr>\n",
       "    <tr>\n",
       "      <th>3</th>\n",
       "      <td>4</td>\n",
       "      <td>simply</td>\n",
       "      <td>Yes</td>\n",
       "      <td>2020-10-27</td>\n",
       "      <td>5908</td>\n",
       "    </tr>\n",
       "    <tr>\n",
       "      <th>4</th>\n",
       "      <td>5</td>\n",
       "      <td>puncayshun</td>\n",
       "      <td>Yes</td>\n",
       "      <td>2021-03-27</td>\n",
       "      <td>5912</td>\n",
       "    </tr>\n",
       "    <tr>\n",
       "      <th>...</th>\n",
       "      <td>...</td>\n",
       "      <td>...</td>\n",
       "      <td>...</td>\n",
       "      <td>...</td>\n",
       "      <td>...</td>\n",
       "    </tr>\n",
       "    <tr>\n",
       "      <th>413</th>\n",
       "      <td>414</td>\n",
       "      <td>GTAce99</td>\n",
       "      <td>Yes</td>\n",
       "      <td>2020-10-27</td>\n",
       "      <td>21297</td>\n",
       "    </tr>\n",
       "    <tr>\n",
       "      <th>414</th>\n",
       "      <td>415</td>\n",
       "      <td>DanimalSounds</td>\n",
       "      <td>Yes</td>\n",
       "      <td>2016-10-27</td>\n",
       "      <td>21558</td>\n",
       "    </tr>\n",
       "    <tr>\n",
       "      <th>415</th>\n",
       "      <td>416</td>\n",
       "      <td>Latsu7</td>\n",
       "      <td>Yes</td>\n",
       "      <td>2021-07-27</td>\n",
       "      <td>33114</td>\n",
       "    </tr>\n",
       "    <tr>\n",
       "      <th>416</th>\n",
       "      <td>417</td>\n",
       "      <td>kam4ran</td>\n",
       "      <td>Yes</td>\n",
       "      <td>2020-10-27</td>\n",
       "      <td>38440</td>\n",
       "    </tr>\n",
       "    <tr>\n",
       "      <th>417</th>\n",
       "      <td>418</td>\n",
       "      <td>Andrick11</td>\n",
       "      <td>Yes</td>\n",
       "      <td>2015-10-27</td>\n",
       "      <td>59562</td>\n",
       "    </tr>\n",
       "  </tbody>\n",
       "</table>\n",
       "<p>418 rows × 5 columns</p>\n",
       "</div>"
      ],
      "text/plain": [
       "     Position         Player Verified       date  seconds\n",
       "0           1           Liam      Yes 2021-10-13     5893\n",
       "1           2         batora      Yes 2021-04-27     5901\n",
       "2           3         cheese      Yes 2021-02-27     5905\n",
       "3           4         simply      Yes 2020-10-27     5908\n",
       "4           5     puncayshun      Yes 2021-03-27     5912\n",
       "..        ...            ...      ...        ...      ...\n",
       "413       414        GTAce99      Yes 2020-10-27    21297\n",
       "414       415  DanimalSounds      Yes 2016-10-27    21558\n",
       "415       416         Latsu7      Yes 2021-07-27    33114\n",
       "416       417        kam4ran      Yes 2020-10-27    38440\n",
       "417       418      Andrick11      Yes 2015-10-27    59562\n",
       "\n",
       "[418 rows x 5 columns]"
      ]
     },
     "execution_count": 82,
     "metadata": {},
     "output_type": "execute_result"
    }
   ],
   "source": [
    "df.loc[:, [\"Position\", \"Player\", \"Verified\", \"date\", \"seconds\"]]"
   ]
  },
  {
   "cell_type": "code",
   "execution_count": 83,
   "id": "91795931",
   "metadata": {
    "slideshow": {
     "slide_type": "subslide"
    }
   },
   "outputs": [
    {
     "data": {
      "text/html": [
       "<div>\n",
       "<style scoped>\n",
       "    .dataframe tbody tr th:only-of-type {\n",
       "        vertical-align: middle;\n",
       "    }\n",
       "\n",
       "    .dataframe tbody tr th {\n",
       "        vertical-align: top;\n",
       "    }\n",
       "\n",
       "    .dataframe thead th {\n",
       "        text-align: right;\n",
       "    }\n",
       "</style>\n",
       "<table border=\"1\" class=\"dataframe\">\n",
       "  <thead>\n",
       "    <tr style=\"text-align: right;\">\n",
       "      <th></th>\n",
       "      <th>Position</th>\n",
       "      <th>Player</th>\n",
       "      <th>Verified</th>\n",
       "      <th>date</th>\n",
       "      <th>seconds</th>\n",
       "    </tr>\n",
       "  </thead>\n",
       "  <tbody>\n",
       "    <tr>\n",
       "      <th>0</th>\n",
       "      <td>1</td>\n",
       "      <td>Liam</td>\n",
       "      <td>Yes</td>\n",
       "      <td>2021-10-13</td>\n",
       "      <td>5893</td>\n",
       "    </tr>\n",
       "    <tr>\n",
       "      <th>1</th>\n",
       "      <td>2</td>\n",
       "      <td>batora</td>\n",
       "      <td>Yes</td>\n",
       "      <td>2021-04-27</td>\n",
       "      <td>5901</td>\n",
       "    </tr>\n",
       "    <tr>\n",
       "      <th>2</th>\n",
       "      <td>3</td>\n",
       "      <td>cheese</td>\n",
       "      <td>Yes</td>\n",
       "      <td>2021-02-27</td>\n",
       "      <td>5905</td>\n",
       "    </tr>\n",
       "    <tr>\n",
       "      <th>3</th>\n",
       "      <td>4</td>\n",
       "      <td>simply</td>\n",
       "      <td>Yes</td>\n",
       "      <td>2020-10-27</td>\n",
       "      <td>5908</td>\n",
       "    </tr>\n",
       "    <tr>\n",
       "      <th>4</th>\n",
       "      <td>5</td>\n",
       "      <td>puncayshun</td>\n",
       "      <td>Yes</td>\n",
       "      <td>2021-03-27</td>\n",
       "      <td>5912</td>\n",
       "    </tr>\n",
       "    <tr>\n",
       "      <th>...</th>\n",
       "      <td>...</td>\n",
       "      <td>...</td>\n",
       "      <td>...</td>\n",
       "      <td>...</td>\n",
       "      <td>...</td>\n",
       "    </tr>\n",
       "    <tr>\n",
       "      <th>413</th>\n",
       "      <td>414</td>\n",
       "      <td>GTAce99</td>\n",
       "      <td>Yes</td>\n",
       "      <td>2020-10-27</td>\n",
       "      <td>21297</td>\n",
       "    </tr>\n",
       "    <tr>\n",
       "      <th>414</th>\n",
       "      <td>415</td>\n",
       "      <td>DanimalSounds</td>\n",
       "      <td>Yes</td>\n",
       "      <td>2016-10-27</td>\n",
       "      <td>21558</td>\n",
       "    </tr>\n",
       "    <tr>\n",
       "      <th>415</th>\n",
       "      <td>416</td>\n",
       "      <td>Latsu7</td>\n",
       "      <td>Yes</td>\n",
       "      <td>2021-07-27</td>\n",
       "      <td>33114</td>\n",
       "    </tr>\n",
       "    <tr>\n",
       "      <th>416</th>\n",
       "      <td>417</td>\n",
       "      <td>kam4ran</td>\n",
       "      <td>Yes</td>\n",
       "      <td>2020-10-27</td>\n",
       "      <td>38440</td>\n",
       "    </tr>\n",
       "    <tr>\n",
       "      <th>417</th>\n",
       "      <td>418</td>\n",
       "      <td>Andrick11</td>\n",
       "      <td>Yes</td>\n",
       "      <td>2015-10-27</td>\n",
       "      <td>59562</td>\n",
       "    </tr>\n",
       "  </tbody>\n",
       "</table>\n",
       "<p>418 rows × 5 columns</p>\n",
       "</div>"
      ],
      "text/plain": [
       "     Position         Player Verified       date  seconds\n",
       "0           1           Liam      Yes 2021-10-13     5893\n",
       "1           2         batora      Yes 2021-04-27     5901\n",
       "2           3         cheese      Yes 2021-02-27     5905\n",
       "3           4         simply      Yes 2020-10-27     5908\n",
       "4           5     puncayshun      Yes 2021-03-27     5912\n",
       "..        ...            ...      ...        ...      ...\n",
       "413       414        GTAce99      Yes 2020-10-27    21297\n",
       "414       415  DanimalSounds      Yes 2016-10-27    21558\n",
       "415       416         Latsu7      Yes 2021-07-27    33114\n",
       "416       417        kam4ran      Yes 2020-10-27    38440\n",
       "417       418      Andrick11      Yes 2015-10-27    59562\n",
       "\n",
       "[418 rows x 5 columns]"
      ]
     },
     "execution_count": 83,
     "metadata": {},
     "output_type": "execute_result"
    }
   ],
   "source": [
    "df = df.loc[:, [\"Position\", \"Player\", \"Verified\", \"date\", \"seconds\"]]\n",
    "df"
   ]
  },
  {
   "cell_type": "markdown",
   "id": "580b6d74",
   "metadata": {
    "slideshow": {
     "slide_type": "subslide"
    }
   },
   "source": [
    "## groupby"
   ]
  },
  {
   "cell_type": "code",
   "execution_count": 84,
   "id": "65556857",
   "metadata": {
    "slideshow": {
     "slide_type": "fragment"
    }
   },
   "outputs": [
    {
     "data": {
      "text/html": [
       "<div>\n",
       "<style scoped>\n",
       "    .dataframe tbody tr th:only-of-type {\n",
       "        vertical-align: middle;\n",
       "    }\n",
       "\n",
       "    .dataframe tbody tr th {\n",
       "        vertical-align: top;\n",
       "    }\n",
       "\n",
       "    .dataframe thead th {\n",
       "        text-align: right;\n",
       "    }\n",
       "</style>\n",
       "<table border=\"1\" class=\"dataframe\">\n",
       "  <thead>\n",
       "    <tr style=\"text-align: right;\">\n",
       "      <th></th>\n",
       "      <th>Position</th>\n",
       "      <th>Player</th>\n",
       "      <th>Verified</th>\n",
       "      <th>date</th>\n",
       "      <th>seconds</th>\n",
       "      <th>playerlen</th>\n",
       "    </tr>\n",
       "  </thead>\n",
       "  <tbody>\n",
       "    <tr>\n",
       "      <th>0</th>\n",
       "      <td>1</td>\n",
       "      <td>Liam</td>\n",
       "      <td>Yes</td>\n",
       "      <td>2021-10-13</td>\n",
       "      <td>5893</td>\n",
       "      <td>4</td>\n",
       "    </tr>\n",
       "    <tr>\n",
       "      <th>1</th>\n",
       "      <td>2</td>\n",
       "      <td>batora</td>\n",
       "      <td>Yes</td>\n",
       "      <td>2021-04-27</td>\n",
       "      <td>5901</td>\n",
       "      <td>6</td>\n",
       "    </tr>\n",
       "    <tr>\n",
       "      <th>2</th>\n",
       "      <td>3</td>\n",
       "      <td>cheese</td>\n",
       "      <td>Yes</td>\n",
       "      <td>2021-02-27</td>\n",
       "      <td>5905</td>\n",
       "      <td>6</td>\n",
       "    </tr>\n",
       "    <tr>\n",
       "      <th>3</th>\n",
       "      <td>4</td>\n",
       "      <td>simply</td>\n",
       "      <td>Yes</td>\n",
       "      <td>2020-10-27</td>\n",
       "      <td>5908</td>\n",
       "      <td>6</td>\n",
       "    </tr>\n",
       "    <tr>\n",
       "      <th>4</th>\n",
       "      <td>5</td>\n",
       "      <td>puncayshun</td>\n",
       "      <td>Yes</td>\n",
       "      <td>2021-03-27</td>\n",
       "      <td>5912</td>\n",
       "      <td>10</td>\n",
       "    </tr>\n",
       "    <tr>\n",
       "      <th>...</th>\n",
       "      <td>...</td>\n",
       "      <td>...</td>\n",
       "      <td>...</td>\n",
       "      <td>...</td>\n",
       "      <td>...</td>\n",
       "      <td>...</td>\n",
       "    </tr>\n",
       "    <tr>\n",
       "      <th>413</th>\n",
       "      <td>414</td>\n",
       "      <td>GTAce99</td>\n",
       "      <td>Yes</td>\n",
       "      <td>2020-10-27</td>\n",
       "      <td>21297</td>\n",
       "      <td>7</td>\n",
       "    </tr>\n",
       "    <tr>\n",
       "      <th>414</th>\n",
       "      <td>415</td>\n",
       "      <td>DanimalSounds</td>\n",
       "      <td>Yes</td>\n",
       "      <td>2016-10-27</td>\n",
       "      <td>21558</td>\n",
       "      <td>13</td>\n",
       "    </tr>\n",
       "    <tr>\n",
       "      <th>415</th>\n",
       "      <td>416</td>\n",
       "      <td>Latsu7</td>\n",
       "      <td>Yes</td>\n",
       "      <td>2021-07-27</td>\n",
       "      <td>33114</td>\n",
       "      <td>6</td>\n",
       "    </tr>\n",
       "    <tr>\n",
       "      <th>416</th>\n",
       "      <td>417</td>\n",
       "      <td>kam4ran</td>\n",
       "      <td>Yes</td>\n",
       "      <td>2020-10-27</td>\n",
       "      <td>38440</td>\n",
       "      <td>7</td>\n",
       "    </tr>\n",
       "    <tr>\n",
       "      <th>417</th>\n",
       "      <td>418</td>\n",
       "      <td>Andrick11</td>\n",
       "      <td>Yes</td>\n",
       "      <td>2015-10-27</td>\n",
       "      <td>59562</td>\n",
       "      <td>9</td>\n",
       "    </tr>\n",
       "  </tbody>\n",
       "</table>\n",
       "<p>418 rows × 6 columns</p>\n",
       "</div>"
      ],
      "text/plain": [
       "     Position         Player Verified       date  seconds  playerlen\n",
       "0           1           Liam      Yes 2021-10-13     5893          4\n",
       "1           2         batora      Yes 2021-04-27     5901          6\n",
       "2           3         cheese      Yes 2021-02-27     5905          6\n",
       "3           4         simply      Yes 2020-10-27     5908          6\n",
       "4           5     puncayshun      Yes 2021-03-27     5912         10\n",
       "..        ...            ...      ...        ...      ...        ...\n",
       "413       414        GTAce99      Yes 2020-10-27    21297          7\n",
       "414       415  DanimalSounds      Yes 2016-10-27    21558         13\n",
       "415       416         Latsu7      Yes 2021-07-27    33114          6\n",
       "416       417        kam4ran      Yes 2020-10-27    38440          7\n",
       "417       418      Andrick11      Yes 2015-10-27    59562          9\n",
       "\n",
       "[418 rows x 6 columns]"
      ]
     },
     "execution_count": 84,
     "metadata": {},
     "output_type": "execute_result"
    }
   ],
   "source": [
    "df[\"playerlen\"] = df[\"Player\"].str.len()\n",
    "df"
   ]
  },
  {
   "cell_type": "code",
   "execution_count": 85,
   "id": "1f4b2469",
   "metadata": {
    "slideshow": {
     "slide_type": "subslide"
    }
   },
   "outputs": [
    {
     "data": {
      "text/plain": [
       "<pandas.core.groupby.generic.DataFrameGroupBy object at 0x7f81af0dc5e0>"
      ]
     },
     "execution_count": 85,
     "metadata": {},
     "output_type": "execute_result"
    }
   ],
   "source": [
    "groups = df.groupby(\"playerlen\")\n",
    "groups"
   ]
  },
  {
   "cell_type": "code",
   "execution_count": 86,
   "id": "414d8c7c",
   "metadata": {
    "slideshow": {
     "slide_type": "subslide"
    }
   },
   "outputs": [
    {
     "data": {
      "text/html": [
       "<div>\n",
       "<style scoped>\n",
       "    .dataframe tbody tr th:only-of-type {\n",
       "        vertical-align: middle;\n",
       "    }\n",
       "\n",
       "    .dataframe tbody tr th {\n",
       "        vertical-align: top;\n",
       "    }\n",
       "\n",
       "    .dataframe thead th {\n",
       "        text-align: right;\n",
       "    }\n",
       "</style>\n",
       "<table border=\"1\" class=\"dataframe\">\n",
       "  <thead>\n",
       "    <tr style=\"text-align: right;\">\n",
       "      <th></th>\n",
       "      <th>Position</th>\n",
       "      <th>Player</th>\n",
       "      <th>Verified</th>\n",
       "      <th>date</th>\n",
       "      <th>seconds</th>\n",
       "      <th>playerlen</th>\n",
       "    </tr>\n",
       "  </thead>\n",
       "  <tbody>\n",
       "    <tr>\n",
       "      <th>223</th>\n",
       "      <td>224</td>\n",
       "      <td>IR</td>\n",
       "      <td>Yes</td>\n",
       "      <td>2019-10-27</td>\n",
       "      <td>7140</td>\n",
       "      <td>2</td>\n",
       "    </tr>\n",
       "    <tr>\n",
       "      <th>411</th>\n",
       "      <td>412</td>\n",
       "      <td>32</td>\n",
       "      <td>Yes</td>\n",
       "      <td>2020-10-27</td>\n",
       "      <td>20981</td>\n",
       "      <td>2</td>\n",
       "    </tr>\n",
       "  </tbody>\n",
       "</table>\n",
       "</div>"
      ],
      "text/plain": [
       "     Position Player Verified       date  seconds  playerlen\n",
       "223       224     IR      Yes 2019-10-27     7140          2\n",
       "411       412     32      Yes 2020-10-27    20981          2"
      ]
     },
     "execution_count": 86,
     "metadata": {},
     "output_type": "execute_result"
    }
   ],
   "source": [
    "playerlen, group = groups.__iter__().__next__()\n",
    "group"
   ]
  },
  {
   "cell_type": "code",
   "execution_count": 87,
   "id": "b9e89acb",
   "metadata": {
    "slideshow": {
     "slide_type": "subslide"
    }
   },
   "outputs": [
    {
     "name": "stdout",
     "output_type": "stream",
     "text": [
      "2 players have 2 letters\n",
      "10 players have 3 letters\n",
      "35 players have 4 letters\n",
      "45 players have 5 letters\n",
      "53 players have 6 letters\n",
      "51 players have 7 letters\n",
      "52 players have 8 letters\n",
      "50 players have 9 letters\n",
      "30 players have 10 letters\n",
      "28 players have 11 letters\n",
      "21 players have 12 letters\n",
      "15 players have 13 letters\n",
      "11 players have 14 letters\n",
      "6 players have 15 letters\n",
      "4 players have 16 letters\n",
      "4 players have 17 letters\n",
      "1 players have 18 letters\n"
     ]
    }
   ],
   "source": [
    "for (playerlen, df_group) in groups:\n",
    "    print(f\"{len(df_group)} players have {playerlen} letters\")"
   ]
  },
  {
   "cell_type": "code",
   "execution_count": 88,
   "id": "5648d0ba",
   "metadata": {
    "slideshow": {
     "slide_type": "subslide"
    }
   },
   "outputs": [
    {
     "data": {
      "text/html": [
       "<div>\n",
       "<style scoped>\n",
       "    .dataframe tbody tr th:only-of-type {\n",
       "        vertical-align: middle;\n",
       "    }\n",
       "\n",
       "    .dataframe tbody tr th {\n",
       "        vertical-align: top;\n",
       "    }\n",
       "\n",
       "    .dataframe thead th {\n",
       "        text-align: right;\n",
       "    }\n",
       "</style>\n",
       "<table border=\"1\" class=\"dataframe\">\n",
       "  <thead>\n",
       "    <tr style=\"text-align: right;\">\n",
       "      <th></th>\n",
       "      <th>Position</th>\n",
       "      <th>seconds</th>\n",
       "    </tr>\n",
       "    <tr>\n",
       "      <th>playerlen</th>\n",
       "      <th></th>\n",
       "      <th></th>\n",
       "    </tr>\n",
       "  </thead>\n",
       "  <tbody>\n",
       "    <tr>\n",
       "      <th>2</th>\n",
       "      <td>318.000000</td>\n",
       "      <td>14060.500000</td>\n",
       "    </tr>\n",
       "    <tr>\n",
       "      <th>3</th>\n",
       "      <td>251.600000</td>\n",
       "      <td>8108.600000</td>\n",
       "    </tr>\n",
       "    <tr>\n",
       "      <th>4</th>\n",
       "      <td>195.885714</td>\n",
       "      <td>7584.400000</td>\n",
       "    </tr>\n",
       "    <tr>\n",
       "      <th>5</th>\n",
       "      <td>191.088889</td>\n",
       "      <td>7609.111111</td>\n",
       "    </tr>\n",
       "    <tr>\n",
       "      <th>6</th>\n",
       "      <td>182.924528</td>\n",
       "      <td>7990.490566</td>\n",
       "    </tr>\n",
       "    <tr>\n",
       "      <th>7</th>\n",
       "      <td>213.450980</td>\n",
       "      <td>8977.235294</td>\n",
       "    </tr>\n",
       "    <tr>\n",
       "      <th>8</th>\n",
       "      <td>199.519231</td>\n",
       "      <td>7917.884615</td>\n",
       "    </tr>\n",
       "    <tr>\n",
       "      <th>9</th>\n",
       "      <td>197.800000</td>\n",
       "      <td>8736.860000</td>\n",
       "    </tr>\n",
       "    <tr>\n",
       "      <th>10</th>\n",
       "      <td>197.633333</td>\n",
       "      <td>7546.600000</td>\n",
       "    </tr>\n",
       "    <tr>\n",
       "      <th>11</th>\n",
       "      <td>206.178571</td>\n",
       "      <td>8446.107143</td>\n",
       "    </tr>\n",
       "    <tr>\n",
       "      <th>12</th>\n",
       "      <td>228.809524</td>\n",
       "      <td>8039.238095</td>\n",
       "    </tr>\n",
       "    <tr>\n",
       "      <th>13</th>\n",
       "      <td>285.066667</td>\n",
       "      <td>11070.266667</td>\n",
       "    </tr>\n",
       "    <tr>\n",
       "      <th>14</th>\n",
       "      <td>262.000000</td>\n",
       "      <td>8535.545455</td>\n",
       "    </tr>\n",
       "    <tr>\n",
       "      <th>15</th>\n",
       "      <td>333.000000</td>\n",
       "      <td>10919.333333</td>\n",
       "    </tr>\n",
       "    <tr>\n",
       "      <th>16</th>\n",
       "      <td>282.750000</td>\n",
       "      <td>8974.500000</td>\n",
       "    </tr>\n",
       "    <tr>\n",
       "      <th>17</th>\n",
       "      <td>246.500000</td>\n",
       "      <td>9237.750000</td>\n",
       "    </tr>\n",
       "    <tr>\n",
       "      <th>18</th>\n",
       "      <td>314.000000</td>\n",
       "      <td>8599.000000</td>\n",
       "    </tr>\n",
       "  </tbody>\n",
       "</table>\n",
       "</div>"
      ],
      "text/plain": [
       "             Position       seconds\n",
       "playerlen                          \n",
       "2          318.000000  14060.500000\n",
       "3          251.600000   8108.600000\n",
       "4          195.885714   7584.400000\n",
       "5          191.088889   7609.111111\n",
       "6          182.924528   7990.490566\n",
       "7          213.450980   8977.235294\n",
       "8          199.519231   7917.884615\n",
       "9          197.800000   8736.860000\n",
       "10         197.633333   7546.600000\n",
       "11         206.178571   8446.107143\n",
       "12         228.809524   8039.238095\n",
       "13         285.066667  11070.266667\n",
       "14         262.000000   8535.545455\n",
       "15         333.000000  10919.333333\n",
       "16         282.750000   8974.500000\n",
       "17         246.500000   9237.750000\n",
       "18         314.000000   8599.000000"
      ]
     },
     "execution_count": 88,
     "metadata": {},
     "output_type": "execute_result"
    }
   ],
   "source": [
    "groups.mean()"
   ]
  },
  {
   "cell_type": "markdown",
   "id": "3a85d044",
   "metadata": {},
   "source": [
    "- value_counts\n",
    "- sort_index, sort_values"
   ]
  },
  {
   "cell_type": "code",
   "execution_count": 90,
   "id": "bd2665d2",
   "metadata": {
    "slideshow": {
     "slide_type": "subslide"
    }
   },
   "outputs": [
    {
     "data": {
      "image/png": "[encoded data removed]",
      "text/plain": [
       "<Figure size 864x576 with 1 Axes>"
      ]
     },
     "metadata": {
      "needs_background": "light"
     },
     "output_type": "display_data"
    }
   ],
   "source": [
    "df.groupby(\"playerlen\").mean().plot(y=\"seconds\");"
   ]
  },
  {
   "cell_type": "code",
   "execution_count": 94,
   "id": "8dc59138",
   "metadata": {
    "slideshow": {
     "slide_type": "subslide"
    }
   },
   "outputs": [
    {
     "data": {
      "image/png": "[encoded data removed]",
      "text/plain": [
       "<Figure size 864x576 with 1 Axes>"
      ]
     },
     "metadata": {},
     "output_type": "display_data"
    }
   ],
   "source": [
    "# sort_index, sort_value\n",
    "df.value_counts(\"playerlen\").sort_index().plot(kind=\"pie\");"
   ]
  },
  {
   "cell_type": "markdown",
   "id": "92d10330",
   "metadata": {
    "slideshow": {
     "slide_type": "subslide"
    }
   },
   "source": [
    "![opt](images/pandas_optimization.jpg)"
   ]
  },
  {
   "cell_type": "markdown",
   "id": "d87d14d8",
   "metadata": {
    "slideshow": {
     "slide_type": "subslide"
    }
   },
   "source": [
    "![opt3](images/pandas_dask_pyspark.png)"
   ]
  },
  {
   "cell_type": "markdown",
   "id": "451d6e88",
   "metadata": {
    "slideshow": {
     "slide_type": "slide"
    }
   },
   "source": [
    "### End of slides"
   ]
  }
 ],
 "metadata": {
  "celltoolbar": "Slideshow",
  "kernelspec": {
   "display_name": "Python 3",
   "language": "python",
   "name": "python3"
  },
  "language_info": {
   "codemirror_mode": {
    "name": "ipython",
    "version": 3
   },
   "file_extension": ".py",
   "mimetype": "text/x-python",
   "name": "python",
   "nbconvert_exporter": "python",
   "pygments_lexer": "ipython3",
   "version": "3.8.10"
  }
 },
 "nbformat": 4,
 "nbformat_minor": 5
}
